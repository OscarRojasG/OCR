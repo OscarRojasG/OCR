{
  "nbformat": 4,
  "nbformat_minor": 0,
  "metadata": {
    "colab": {
      "provenance": [],
      "authorship_tag": "ABX9TyMkX8aHepRvmhuiRb5K0/Vh",
      "include_colab_link": true
    },
    "kernelspec": {
      "name": "python3",
      "display_name": "Python 3"
    },
    "language_info": {
      "name": "python"
    }
  },
  "cells": [
    {
      "cell_type": "markdown",
      "metadata": {
        "id": "view-in-github",
        "colab_type": "text"
      },
      "source": [
        "<a href=\"https://colab.research.google.com/github/OscarRojasG/OCR/blob/main/OCR.ipynb\" target=\"_parent\"><img src=\"https://colab.research.google.com/assets/colab-badge.svg\" alt=\"Open In Colab\"/></a>"
      ]
    },
    {
      "cell_type": "markdown",
      "source": [
        "# Dataset"
      ],
      "metadata": {
        "id": "c4vPnIAu6BIf"
      }
    },
    {
      "cell_type": "markdown",
      "source": [
        "The dataset contains 26 folders (A-Z) containing handwritten images in size 28x28 pixels, each alphabet in the image is centre fitted to 20x20 pixel box.\n",
        "\n",
        "Each image is stored as Gray-level\n",
        "\n",
        "https://www.kaggle.com/datasets/sachinpatel21/az-handwritten-alphabets-in-csv-format/"
      ],
      "metadata": {
        "id": "fHkRcQkFcKbI"
      }
    },
    {
      "cell_type": "markdown",
      "source": [
        "## Cargar dataset completo"
      ],
      "metadata": {
        "id": "TPLA4aaF9iZu"
      }
    },
    {
      "cell_type": "markdown",
      "source": [
        "No recomendable... se agota la RAM de colab y tarda demasiado en cargar.\n",
        "\n",
        "Se recomienda reducir el volumen del dataset (revisar sección \"Exportar\")."
      ],
      "metadata": {
        "id": "8nnUWy8j94H-"
      }
    },
    {
      "cell_type": "code",
      "execution_count": null,
      "metadata": {
        "colab": {
          "base_uri": "https://localhost:8080/",
          "height": 235
        },
        "id": "uQQhVkmQW15g",
        "outputId": "53322e1e-ee72-498d-f652-f481592c5d7a"
      },
      "outputs": [
        {
          "output_type": "execute_result",
          "data": {
            "text/plain": [
              "   0    1    2    3    4    5    6    7    8    9    ...  775  776  777  778  \\\n",
              "0    0    0    0    0    0    0    0    0    0    0  ...    0    0    0    0   \n",
              "1    0    0    0    0    0    0    0    0    0    0  ...    0    0    0    0   \n",
              "2    0    0    0    0    0    0    0    0    0    0  ...    0    0    0    0   \n",
              "3    0    0    0    0    0    0    0    0    0    0  ...    0    0    0    0   \n",
              "4    0    0    0    0    0    0    0    0    0    0  ...    0    0    0    0   \n",
              "\n",
              "   779  780  781  782  783  784  \n",
              "0    0    0    0    0    0    0  \n",
              "1    0    0    0    0    0    0  \n",
              "2    0    0    0    0    0    0  \n",
              "3    0    0    0    0    0    0  \n",
              "4    0    0    0    0    0    0  \n",
              "\n",
              "[5 rows x 785 columns]"
            ],
            "text/html": [
              "\n",
              "  <div id=\"df-92774afd-7174-4f0a-b80c-2ee0e63ad5d3\" class=\"colab-df-container\">\n",
              "    <div>\n",
              "<style scoped>\n",
              "    .dataframe tbody tr th:only-of-type {\n",
              "        vertical-align: middle;\n",
              "    }\n",
              "\n",
              "    .dataframe tbody tr th {\n",
              "        vertical-align: top;\n",
              "    }\n",
              "\n",
              "    .dataframe thead th {\n",
              "        text-align: right;\n",
              "    }\n",
              "</style>\n",
              "<table border=\"1\" class=\"dataframe\">\n",
              "  <thead>\n",
              "    <tr style=\"text-align: right;\">\n",
              "      <th></th>\n",
              "      <th>0</th>\n",
              "      <th>1</th>\n",
              "      <th>2</th>\n",
              "      <th>3</th>\n",
              "      <th>4</th>\n",
              "      <th>5</th>\n",
              "      <th>6</th>\n",
              "      <th>7</th>\n",
              "      <th>8</th>\n",
              "      <th>9</th>\n",
              "      <th>...</th>\n",
              "      <th>775</th>\n",
              "      <th>776</th>\n",
              "      <th>777</th>\n",
              "      <th>778</th>\n",
              "      <th>779</th>\n",
              "      <th>780</th>\n",
              "      <th>781</th>\n",
              "      <th>782</th>\n",
              "      <th>783</th>\n",
              "      <th>784</th>\n",
              "    </tr>\n",
              "  </thead>\n",
              "  <tbody>\n",
              "    <tr>\n",
              "      <th>0</th>\n",
              "      <td>0</td>\n",
              "      <td>0</td>\n",
              "      <td>0</td>\n",
              "      <td>0</td>\n",
              "      <td>0</td>\n",
              "      <td>0</td>\n",
              "      <td>0</td>\n",
              "      <td>0</td>\n",
              "      <td>0</td>\n",
              "      <td>0</td>\n",
              "      <td>...</td>\n",
              "      <td>0</td>\n",
              "      <td>0</td>\n",
              "      <td>0</td>\n",
              "      <td>0</td>\n",
              "      <td>0</td>\n",
              "      <td>0</td>\n",
              "      <td>0</td>\n",
              "      <td>0</td>\n",
              "      <td>0</td>\n",
              "      <td>0</td>\n",
              "    </tr>\n",
              "    <tr>\n",
              "      <th>1</th>\n",
              "      <td>0</td>\n",
              "      <td>0</td>\n",
              "      <td>0</td>\n",
              "      <td>0</td>\n",
              "      <td>0</td>\n",
              "      <td>0</td>\n",
              "      <td>0</td>\n",
              "      <td>0</td>\n",
              "      <td>0</td>\n",
              "      <td>0</td>\n",
              "      <td>...</td>\n",
              "      <td>0</td>\n",
              "      <td>0</td>\n",
              "      <td>0</td>\n",
              "      <td>0</td>\n",
              "      <td>0</td>\n",
              "      <td>0</td>\n",
              "      <td>0</td>\n",
              "      <td>0</td>\n",
              "      <td>0</td>\n",
              "      <td>0</td>\n",
              "    </tr>\n",
              "    <tr>\n",
              "      <th>2</th>\n",
              "      <td>0</td>\n",
              "      <td>0</td>\n",
              "      <td>0</td>\n",
              "      <td>0</td>\n",
              "      <td>0</td>\n",
              "      <td>0</td>\n",
              "      <td>0</td>\n",
              "      <td>0</td>\n",
              "      <td>0</td>\n",
              "      <td>0</td>\n",
              "      <td>...</td>\n",
              "      <td>0</td>\n",
              "      <td>0</td>\n",
              "      <td>0</td>\n",
              "      <td>0</td>\n",
              "      <td>0</td>\n",
              "      <td>0</td>\n",
              "      <td>0</td>\n",
              "      <td>0</td>\n",
              "      <td>0</td>\n",
              "      <td>0</td>\n",
              "    </tr>\n",
              "    <tr>\n",
              "      <th>3</th>\n",
              "      <td>0</td>\n",
              "      <td>0</td>\n",
              "      <td>0</td>\n",
              "      <td>0</td>\n",
              "      <td>0</td>\n",
              "      <td>0</td>\n",
              "      <td>0</td>\n",
              "      <td>0</td>\n",
              "      <td>0</td>\n",
              "      <td>0</td>\n",
              "      <td>...</td>\n",
              "      <td>0</td>\n",
              "      <td>0</td>\n",
              "      <td>0</td>\n",
              "      <td>0</td>\n",
              "      <td>0</td>\n",
              "      <td>0</td>\n",
              "      <td>0</td>\n",
              "      <td>0</td>\n",
              "      <td>0</td>\n",
              "      <td>0</td>\n",
              "    </tr>\n",
              "    <tr>\n",
              "      <th>4</th>\n",
              "      <td>0</td>\n",
              "      <td>0</td>\n",
              "      <td>0</td>\n",
              "      <td>0</td>\n",
              "      <td>0</td>\n",
              "      <td>0</td>\n",
              "      <td>0</td>\n",
              "      <td>0</td>\n",
              "      <td>0</td>\n",
              "      <td>0</td>\n",
              "      <td>...</td>\n",
              "      <td>0</td>\n",
              "      <td>0</td>\n",
              "      <td>0</td>\n",
              "      <td>0</td>\n",
              "      <td>0</td>\n",
              "      <td>0</td>\n",
              "      <td>0</td>\n",
              "      <td>0</td>\n",
              "      <td>0</td>\n",
              "      <td>0</td>\n",
              "    </tr>\n",
              "  </tbody>\n",
              "</table>\n",
              "<p>5 rows × 785 columns</p>\n",
              "</div>\n",
              "    <div class=\"colab-df-buttons\">\n",
              "\n",
              "  <div class=\"colab-df-container\">\n",
              "    <button class=\"colab-df-convert\" onclick=\"convertToInteractive('df-92774afd-7174-4f0a-b80c-2ee0e63ad5d3')\"\n",
              "            title=\"Convert this dataframe to an interactive table.\"\n",
              "            style=\"display:none;\">\n",
              "\n",
              "  <svg xmlns=\"http://www.w3.org/2000/svg\" height=\"24px\" viewBox=\"0 -960 960 960\">\n",
              "    <path d=\"M120-120v-720h720v720H120Zm60-500h600v-160H180v160Zm220 220h160v-160H400v160Zm0 220h160v-160H400v160ZM180-400h160v-160H180v160Zm440 0h160v-160H620v160ZM180-180h160v-160H180v160Zm440 0h160v-160H620v160Z\"/>\n",
              "  </svg>\n",
              "    </button>\n",
              "\n",
              "  <style>\n",
              "    .colab-df-container {\n",
              "      display:flex;\n",
              "      gap: 12px;\n",
              "    }\n",
              "\n",
              "    .colab-df-convert {\n",
              "      background-color: #E8F0FE;\n",
              "      border: none;\n",
              "      border-radius: 50%;\n",
              "      cursor: pointer;\n",
              "      display: none;\n",
              "      fill: #1967D2;\n",
              "      height: 32px;\n",
              "      padding: 0 0 0 0;\n",
              "      width: 32px;\n",
              "    }\n",
              "\n",
              "    .colab-df-convert:hover {\n",
              "      background-color: #E2EBFA;\n",
              "      box-shadow: 0px 1px 2px rgba(60, 64, 67, 0.3), 0px 1px 3px 1px rgba(60, 64, 67, 0.15);\n",
              "      fill: #174EA6;\n",
              "    }\n",
              "\n",
              "    .colab-df-buttons div {\n",
              "      margin-bottom: 4px;\n",
              "    }\n",
              "\n",
              "    [theme=dark] .colab-df-convert {\n",
              "      background-color: #3B4455;\n",
              "      fill: #D2E3FC;\n",
              "    }\n",
              "\n",
              "    [theme=dark] .colab-df-convert:hover {\n",
              "      background-color: #434B5C;\n",
              "      box-shadow: 0px 1px 3px 1px rgba(0, 0, 0, 0.15);\n",
              "      filter: drop-shadow(0px 1px 2px rgba(0, 0, 0, 0.3));\n",
              "      fill: #FFFFFF;\n",
              "    }\n",
              "  </style>\n",
              "\n",
              "    <script>\n",
              "      const buttonEl =\n",
              "        document.querySelector('#df-92774afd-7174-4f0a-b80c-2ee0e63ad5d3 button.colab-df-convert');\n",
              "      buttonEl.style.display =\n",
              "        google.colab.kernel.accessAllowed ? 'block' : 'none';\n",
              "\n",
              "      async function convertToInteractive(key) {\n",
              "        const element = document.querySelector('#df-92774afd-7174-4f0a-b80c-2ee0e63ad5d3');\n",
              "        const dataTable =\n",
              "          await google.colab.kernel.invokeFunction('convertToInteractive',\n",
              "                                                    [key], {});\n",
              "        if (!dataTable) return;\n",
              "\n",
              "        const docLinkHtml = 'Like what you see? Visit the ' +\n",
              "          '<a target=\"_blank\" href=https://colab.research.google.com/notebooks/data_table.ipynb>data table notebook</a>'\n",
              "          + ' to learn more about interactive tables.';\n",
              "        element.innerHTML = '';\n",
              "        dataTable['output_type'] = 'display_data';\n",
              "        await google.colab.output.renderOutput(dataTable, element);\n",
              "        const docLink = document.createElement('div');\n",
              "        docLink.innerHTML = docLinkHtml;\n",
              "        element.appendChild(docLink);\n",
              "      }\n",
              "    </script>\n",
              "  </div>\n",
              "\n",
              "\n",
              "<div id=\"df-cb01d69a-da77-49f4-8a94-c08f333751ae\">\n",
              "  <button class=\"colab-df-quickchart\" onclick=\"quickchart('df-cb01d69a-da77-49f4-8a94-c08f333751ae')\"\n",
              "            title=\"Suggest charts.\"\n",
              "            style=\"display:none;\">\n",
              "\n",
              "<svg xmlns=\"http://www.w3.org/2000/svg\" height=\"24px\"viewBox=\"0 0 24 24\"\n",
              "     width=\"24px\">\n",
              "    <g>\n",
              "        <path d=\"M19 3H5c-1.1 0-2 .9-2 2v14c0 1.1.9 2 2 2h14c1.1 0 2-.9 2-2V5c0-1.1-.9-2-2-2zM9 17H7v-7h2v7zm4 0h-2V7h2v10zm4 0h-2v-4h2v4z\"/>\n",
              "    </g>\n",
              "</svg>\n",
              "  </button>\n",
              "\n",
              "<style>\n",
              "  .colab-df-quickchart {\n",
              "      --bg-color: #E8F0FE;\n",
              "      --fill-color: #1967D2;\n",
              "      --hover-bg-color: #E2EBFA;\n",
              "      --hover-fill-color: #174EA6;\n",
              "      --disabled-fill-color: #AAA;\n",
              "      --disabled-bg-color: #DDD;\n",
              "  }\n",
              "\n",
              "  [theme=dark] .colab-df-quickchart {\n",
              "      --bg-color: #3B4455;\n",
              "      --fill-color: #D2E3FC;\n",
              "      --hover-bg-color: #434B5C;\n",
              "      --hover-fill-color: #FFFFFF;\n",
              "      --disabled-bg-color: #3B4455;\n",
              "      --disabled-fill-color: #666;\n",
              "  }\n",
              "\n",
              "  .colab-df-quickchart {\n",
              "    background-color: var(--bg-color);\n",
              "    border: none;\n",
              "    border-radius: 50%;\n",
              "    cursor: pointer;\n",
              "    display: none;\n",
              "    fill: var(--fill-color);\n",
              "    height: 32px;\n",
              "    padding: 0;\n",
              "    width: 32px;\n",
              "  }\n",
              "\n",
              "  .colab-df-quickchart:hover {\n",
              "    background-color: var(--hover-bg-color);\n",
              "    box-shadow: 0 1px 2px rgba(60, 64, 67, 0.3), 0 1px 3px 1px rgba(60, 64, 67, 0.15);\n",
              "    fill: var(--button-hover-fill-color);\n",
              "  }\n",
              "\n",
              "  .colab-df-quickchart-complete:disabled,\n",
              "  .colab-df-quickchart-complete:disabled:hover {\n",
              "    background-color: var(--disabled-bg-color);\n",
              "    fill: var(--disabled-fill-color);\n",
              "    box-shadow: none;\n",
              "  }\n",
              "\n",
              "  .colab-df-spinner {\n",
              "    border: 2px solid var(--fill-color);\n",
              "    border-color: transparent;\n",
              "    border-bottom-color: var(--fill-color);\n",
              "    animation:\n",
              "      spin 1s steps(1) infinite;\n",
              "  }\n",
              "\n",
              "  @keyframes spin {\n",
              "    0% {\n",
              "      border-color: transparent;\n",
              "      border-bottom-color: var(--fill-color);\n",
              "      border-left-color: var(--fill-color);\n",
              "    }\n",
              "    20% {\n",
              "      border-color: transparent;\n",
              "      border-left-color: var(--fill-color);\n",
              "      border-top-color: var(--fill-color);\n",
              "    }\n",
              "    30% {\n",
              "      border-color: transparent;\n",
              "      border-left-color: var(--fill-color);\n",
              "      border-top-color: var(--fill-color);\n",
              "      border-right-color: var(--fill-color);\n",
              "    }\n",
              "    40% {\n",
              "      border-color: transparent;\n",
              "      border-right-color: var(--fill-color);\n",
              "      border-top-color: var(--fill-color);\n",
              "    }\n",
              "    60% {\n",
              "      border-color: transparent;\n",
              "      border-right-color: var(--fill-color);\n",
              "    }\n",
              "    80% {\n",
              "      border-color: transparent;\n",
              "      border-right-color: var(--fill-color);\n",
              "      border-bottom-color: var(--fill-color);\n",
              "    }\n",
              "    90% {\n",
              "      border-color: transparent;\n",
              "      border-bottom-color: var(--fill-color);\n",
              "    }\n",
              "  }\n",
              "</style>\n",
              "\n",
              "  <script>\n",
              "    async function quickchart(key) {\n",
              "      const quickchartButtonEl =\n",
              "        document.querySelector('#' + key + ' button');\n",
              "      quickchartButtonEl.disabled = true;  // To prevent multiple clicks.\n",
              "      quickchartButtonEl.classList.add('colab-df-spinner');\n",
              "      try {\n",
              "        const charts = await google.colab.kernel.invokeFunction(\n",
              "            'suggestCharts', [key], {});\n",
              "      } catch (error) {\n",
              "        console.error('Error during call to suggestCharts:', error);\n",
              "      }\n",
              "      quickchartButtonEl.classList.remove('colab-df-spinner');\n",
              "      quickchartButtonEl.classList.add('colab-df-quickchart-complete');\n",
              "    }\n",
              "    (() => {\n",
              "      let quickchartButtonEl =\n",
              "        document.querySelector('#df-cb01d69a-da77-49f4-8a94-c08f333751ae button');\n",
              "      quickchartButtonEl.style.display =\n",
              "        google.colab.kernel.accessAllowed ? 'block' : 'none';\n",
              "    })();\n",
              "  </script>\n",
              "</div>\n",
              "    </div>\n",
              "  </div>\n"
            ]
          },
          "metadata": {},
          "execution_count": 361
        }
      ],
      "source": [
        "import pandas as pd\n",
        "import numpy as np\n",
        "\n",
        "df = pd.read_csv(\"A_Z Handwritten Data.csv\", header=None, dtype=np.uint8, nrows=10000)\n",
        "df.head()"
      ]
    },
    {
      "cell_type": "markdown",
      "source": [
        "## Cargar muestra"
      ],
      "metadata": {
        "id": "DMVr0bTJ9xrF"
      }
    },
    {
      "cell_type": "code",
      "source": [
        "import pandas as pd\n",
        "import numpy as np\n",
        "\n",
        "df = pd.read_csv(\"sample.csv\", dtype=np.uint8, header=None)\n",
        "df.head()"
      ],
      "metadata": {
        "colab": {
          "base_uri": "https://localhost:8080/",
          "height": 235
        },
        "id": "tVW7HXa59btm",
        "outputId": "9dd1b941-03e4-4c9f-f098-4f36521ccdba"
      },
      "execution_count": 113,
      "outputs": [
        {
          "output_type": "execute_result",
          "data": {
            "text/plain": [
              "   0    1    2    3    4    5    6    7    8    9    ...  391  392  393  394  \\\n",
              "0    0    0    0    0    0    0    0    0    0    0  ...    0   98  255  233   \n",
              "1    0    0    0    0    0    0    0    0    0    0  ...    0    0   77  135   \n",
              "2    0    0    0    0    0    0    0    0    0    0  ...    0    0   68  161   \n",
              "3    0    0    0    0    0    0    0    0    0    0  ...    0    0    0    0   \n",
              "4    0    0    0    0    0    0    0    0    0    0  ...    0    0    0    0   \n",
              "\n",
              "   395  396  397  398  399  400  \n",
              "0   31    0    0    0    0    0  \n",
              "1   27    0    0    0    0    0  \n",
              "2  101    0    0    0    0    0  \n",
              "3    0    0    0    0    0    0  \n",
              "4    0    0  166  183   31    0  \n",
              "\n",
              "[5 rows x 401 columns]"
            ],
            "text/html": [
              "\n",
              "  <div id=\"df-e7ac27f8-ada4-4061-b559-a1f1351c4a52\" class=\"colab-df-container\">\n",
              "    <div>\n",
              "<style scoped>\n",
              "    .dataframe tbody tr th:only-of-type {\n",
              "        vertical-align: middle;\n",
              "    }\n",
              "\n",
              "    .dataframe tbody tr th {\n",
              "        vertical-align: top;\n",
              "    }\n",
              "\n",
              "    .dataframe thead th {\n",
              "        text-align: right;\n",
              "    }\n",
              "</style>\n",
              "<table border=\"1\" class=\"dataframe\">\n",
              "  <thead>\n",
              "    <tr style=\"text-align: right;\">\n",
              "      <th></th>\n",
              "      <th>0</th>\n",
              "      <th>1</th>\n",
              "      <th>2</th>\n",
              "      <th>3</th>\n",
              "      <th>4</th>\n",
              "      <th>5</th>\n",
              "      <th>6</th>\n",
              "      <th>7</th>\n",
              "      <th>8</th>\n",
              "      <th>9</th>\n",
              "      <th>...</th>\n",
              "      <th>391</th>\n",
              "      <th>392</th>\n",
              "      <th>393</th>\n",
              "      <th>394</th>\n",
              "      <th>395</th>\n",
              "      <th>396</th>\n",
              "      <th>397</th>\n",
              "      <th>398</th>\n",
              "      <th>399</th>\n",
              "      <th>400</th>\n",
              "    </tr>\n",
              "  </thead>\n",
              "  <tbody>\n",
              "    <tr>\n",
              "      <th>0</th>\n",
              "      <td>0</td>\n",
              "      <td>0</td>\n",
              "      <td>0</td>\n",
              "      <td>0</td>\n",
              "      <td>0</td>\n",
              "      <td>0</td>\n",
              "      <td>0</td>\n",
              "      <td>0</td>\n",
              "      <td>0</td>\n",
              "      <td>0</td>\n",
              "      <td>...</td>\n",
              "      <td>0</td>\n",
              "      <td>98</td>\n",
              "      <td>255</td>\n",
              "      <td>233</td>\n",
              "      <td>31</td>\n",
              "      <td>0</td>\n",
              "      <td>0</td>\n",
              "      <td>0</td>\n",
              "      <td>0</td>\n",
              "      <td>0</td>\n",
              "    </tr>\n",
              "    <tr>\n",
              "      <th>1</th>\n",
              "      <td>0</td>\n",
              "      <td>0</td>\n",
              "      <td>0</td>\n",
              "      <td>0</td>\n",
              "      <td>0</td>\n",
              "      <td>0</td>\n",
              "      <td>0</td>\n",
              "      <td>0</td>\n",
              "      <td>0</td>\n",
              "      <td>0</td>\n",
              "      <td>...</td>\n",
              "      <td>0</td>\n",
              "      <td>0</td>\n",
              "      <td>77</td>\n",
              "      <td>135</td>\n",
              "      <td>27</td>\n",
              "      <td>0</td>\n",
              "      <td>0</td>\n",
              "      <td>0</td>\n",
              "      <td>0</td>\n",
              "      <td>0</td>\n",
              "    </tr>\n",
              "    <tr>\n",
              "      <th>2</th>\n",
              "      <td>0</td>\n",
              "      <td>0</td>\n",
              "      <td>0</td>\n",
              "      <td>0</td>\n",
              "      <td>0</td>\n",
              "      <td>0</td>\n",
              "      <td>0</td>\n",
              "      <td>0</td>\n",
              "      <td>0</td>\n",
              "      <td>0</td>\n",
              "      <td>...</td>\n",
              "      <td>0</td>\n",
              "      <td>0</td>\n",
              "      <td>68</td>\n",
              "      <td>161</td>\n",
              "      <td>101</td>\n",
              "      <td>0</td>\n",
              "      <td>0</td>\n",
              "      <td>0</td>\n",
              "      <td>0</td>\n",
              "      <td>0</td>\n",
              "    </tr>\n",
              "    <tr>\n",
              "      <th>3</th>\n",
              "      <td>0</td>\n",
              "      <td>0</td>\n",
              "      <td>0</td>\n",
              "      <td>0</td>\n",
              "      <td>0</td>\n",
              "      <td>0</td>\n",
              "      <td>0</td>\n",
              "      <td>0</td>\n",
              "      <td>0</td>\n",
              "      <td>0</td>\n",
              "      <td>...</td>\n",
              "      <td>0</td>\n",
              "      <td>0</td>\n",
              "      <td>0</td>\n",
              "      <td>0</td>\n",
              "      <td>0</td>\n",
              "      <td>0</td>\n",
              "      <td>0</td>\n",
              "      <td>0</td>\n",
              "      <td>0</td>\n",
              "      <td>0</td>\n",
              "    </tr>\n",
              "    <tr>\n",
              "      <th>4</th>\n",
              "      <td>0</td>\n",
              "      <td>0</td>\n",
              "      <td>0</td>\n",
              "      <td>0</td>\n",
              "      <td>0</td>\n",
              "      <td>0</td>\n",
              "      <td>0</td>\n",
              "      <td>0</td>\n",
              "      <td>0</td>\n",
              "      <td>0</td>\n",
              "      <td>...</td>\n",
              "      <td>0</td>\n",
              "      <td>0</td>\n",
              "      <td>0</td>\n",
              "      <td>0</td>\n",
              "      <td>0</td>\n",
              "      <td>0</td>\n",
              "      <td>166</td>\n",
              "      <td>183</td>\n",
              "      <td>31</td>\n",
              "      <td>0</td>\n",
              "    </tr>\n",
              "  </tbody>\n",
              "</table>\n",
              "<p>5 rows × 401 columns</p>\n",
              "</div>\n",
              "    <div class=\"colab-df-buttons\">\n",
              "\n",
              "  <div class=\"colab-df-container\">\n",
              "    <button class=\"colab-df-convert\" onclick=\"convertToInteractive('df-e7ac27f8-ada4-4061-b559-a1f1351c4a52')\"\n",
              "            title=\"Convert this dataframe to an interactive table.\"\n",
              "            style=\"display:none;\">\n",
              "\n",
              "  <svg xmlns=\"http://www.w3.org/2000/svg\" height=\"24px\" viewBox=\"0 -960 960 960\">\n",
              "    <path d=\"M120-120v-720h720v720H120Zm60-500h600v-160H180v160Zm220 220h160v-160H400v160Zm0 220h160v-160H400v160ZM180-400h160v-160H180v160Zm440 0h160v-160H620v160ZM180-180h160v-160H180v160Zm440 0h160v-160H620v160Z\"/>\n",
              "  </svg>\n",
              "    </button>\n",
              "\n",
              "  <style>\n",
              "    .colab-df-container {\n",
              "      display:flex;\n",
              "      gap: 12px;\n",
              "    }\n",
              "\n",
              "    .colab-df-convert {\n",
              "      background-color: #E8F0FE;\n",
              "      border: none;\n",
              "      border-radius: 50%;\n",
              "      cursor: pointer;\n",
              "      display: none;\n",
              "      fill: #1967D2;\n",
              "      height: 32px;\n",
              "      padding: 0 0 0 0;\n",
              "      width: 32px;\n",
              "    }\n",
              "\n",
              "    .colab-df-convert:hover {\n",
              "      background-color: #E2EBFA;\n",
              "      box-shadow: 0px 1px 2px rgba(60, 64, 67, 0.3), 0px 1px 3px 1px rgba(60, 64, 67, 0.15);\n",
              "      fill: #174EA6;\n",
              "    }\n",
              "\n",
              "    .colab-df-buttons div {\n",
              "      margin-bottom: 4px;\n",
              "    }\n",
              "\n",
              "    [theme=dark] .colab-df-convert {\n",
              "      background-color: #3B4455;\n",
              "      fill: #D2E3FC;\n",
              "    }\n",
              "\n",
              "    [theme=dark] .colab-df-convert:hover {\n",
              "      background-color: #434B5C;\n",
              "      box-shadow: 0px 1px 3px 1px rgba(0, 0, 0, 0.15);\n",
              "      filter: drop-shadow(0px 1px 2px rgba(0, 0, 0, 0.3));\n",
              "      fill: #FFFFFF;\n",
              "    }\n",
              "  </style>\n",
              "\n",
              "    <script>\n",
              "      const buttonEl =\n",
              "        document.querySelector('#df-e7ac27f8-ada4-4061-b559-a1f1351c4a52 button.colab-df-convert');\n",
              "      buttonEl.style.display =\n",
              "        google.colab.kernel.accessAllowed ? 'block' : 'none';\n",
              "\n",
              "      async function convertToInteractive(key) {\n",
              "        const element = document.querySelector('#df-e7ac27f8-ada4-4061-b559-a1f1351c4a52');\n",
              "        const dataTable =\n",
              "          await google.colab.kernel.invokeFunction('convertToInteractive',\n",
              "                                                    [key], {});\n",
              "        if (!dataTable) return;\n",
              "\n",
              "        const docLinkHtml = 'Like what you see? Visit the ' +\n",
              "          '<a target=\"_blank\" href=https://colab.research.google.com/notebooks/data_table.ipynb>data table notebook</a>'\n",
              "          + ' to learn more about interactive tables.';\n",
              "        element.innerHTML = '';\n",
              "        dataTable['output_type'] = 'display_data';\n",
              "        await google.colab.output.renderOutput(dataTable, element);\n",
              "        const docLink = document.createElement('div');\n",
              "        docLink.innerHTML = docLinkHtml;\n",
              "        element.appendChild(docLink);\n",
              "      }\n",
              "    </script>\n",
              "  </div>\n",
              "\n",
              "\n",
              "<div id=\"df-9d3fbc8e-b3e9-476c-8650-33ed3c74e71a\">\n",
              "  <button class=\"colab-df-quickchart\" onclick=\"quickchart('df-9d3fbc8e-b3e9-476c-8650-33ed3c74e71a')\"\n",
              "            title=\"Suggest charts.\"\n",
              "            style=\"display:none;\">\n",
              "\n",
              "<svg xmlns=\"http://www.w3.org/2000/svg\" height=\"24px\"viewBox=\"0 0 24 24\"\n",
              "     width=\"24px\">\n",
              "    <g>\n",
              "        <path d=\"M19 3H5c-1.1 0-2 .9-2 2v14c0 1.1.9 2 2 2h14c1.1 0 2-.9 2-2V5c0-1.1-.9-2-2-2zM9 17H7v-7h2v7zm4 0h-2V7h2v10zm4 0h-2v-4h2v4z\"/>\n",
              "    </g>\n",
              "</svg>\n",
              "  </button>\n",
              "\n",
              "<style>\n",
              "  .colab-df-quickchart {\n",
              "      --bg-color: #E8F0FE;\n",
              "      --fill-color: #1967D2;\n",
              "      --hover-bg-color: #E2EBFA;\n",
              "      --hover-fill-color: #174EA6;\n",
              "      --disabled-fill-color: #AAA;\n",
              "      --disabled-bg-color: #DDD;\n",
              "  }\n",
              "\n",
              "  [theme=dark] .colab-df-quickchart {\n",
              "      --bg-color: #3B4455;\n",
              "      --fill-color: #D2E3FC;\n",
              "      --hover-bg-color: #434B5C;\n",
              "      --hover-fill-color: #FFFFFF;\n",
              "      --disabled-bg-color: #3B4455;\n",
              "      --disabled-fill-color: #666;\n",
              "  }\n",
              "\n",
              "  .colab-df-quickchart {\n",
              "    background-color: var(--bg-color);\n",
              "    border: none;\n",
              "    border-radius: 50%;\n",
              "    cursor: pointer;\n",
              "    display: none;\n",
              "    fill: var(--fill-color);\n",
              "    height: 32px;\n",
              "    padding: 0;\n",
              "    width: 32px;\n",
              "  }\n",
              "\n",
              "  .colab-df-quickchart:hover {\n",
              "    background-color: var(--hover-bg-color);\n",
              "    box-shadow: 0 1px 2px rgba(60, 64, 67, 0.3), 0 1px 3px 1px rgba(60, 64, 67, 0.15);\n",
              "    fill: var(--button-hover-fill-color);\n",
              "  }\n",
              "\n",
              "  .colab-df-quickchart-complete:disabled,\n",
              "  .colab-df-quickchart-complete:disabled:hover {\n",
              "    background-color: var(--disabled-bg-color);\n",
              "    fill: var(--disabled-fill-color);\n",
              "    box-shadow: none;\n",
              "  }\n",
              "\n",
              "  .colab-df-spinner {\n",
              "    border: 2px solid var(--fill-color);\n",
              "    border-color: transparent;\n",
              "    border-bottom-color: var(--fill-color);\n",
              "    animation:\n",
              "      spin 1s steps(1) infinite;\n",
              "  }\n",
              "\n",
              "  @keyframes spin {\n",
              "    0% {\n",
              "      border-color: transparent;\n",
              "      border-bottom-color: var(--fill-color);\n",
              "      border-left-color: var(--fill-color);\n",
              "    }\n",
              "    20% {\n",
              "      border-color: transparent;\n",
              "      border-left-color: var(--fill-color);\n",
              "      border-top-color: var(--fill-color);\n",
              "    }\n",
              "    30% {\n",
              "      border-color: transparent;\n",
              "      border-left-color: var(--fill-color);\n",
              "      border-top-color: var(--fill-color);\n",
              "      border-right-color: var(--fill-color);\n",
              "    }\n",
              "    40% {\n",
              "      border-color: transparent;\n",
              "      border-right-color: var(--fill-color);\n",
              "      border-top-color: var(--fill-color);\n",
              "    }\n",
              "    60% {\n",
              "      border-color: transparent;\n",
              "      border-right-color: var(--fill-color);\n",
              "    }\n",
              "    80% {\n",
              "      border-color: transparent;\n",
              "      border-right-color: var(--fill-color);\n",
              "      border-bottom-color: var(--fill-color);\n",
              "    }\n",
              "    90% {\n",
              "      border-color: transparent;\n",
              "      border-bottom-color: var(--fill-color);\n",
              "    }\n",
              "  }\n",
              "</style>\n",
              "\n",
              "  <script>\n",
              "    async function quickchart(key) {\n",
              "      const quickchartButtonEl =\n",
              "        document.querySelector('#' + key + ' button');\n",
              "      quickchartButtonEl.disabled = true;  // To prevent multiple clicks.\n",
              "      quickchartButtonEl.classList.add('colab-df-spinner');\n",
              "      try {\n",
              "        const charts = await google.colab.kernel.invokeFunction(\n",
              "            'suggestCharts', [key], {});\n",
              "      } catch (error) {\n",
              "        console.error('Error during call to suggestCharts:', error);\n",
              "      }\n",
              "      quickchartButtonEl.classList.remove('colab-df-spinner');\n",
              "      quickchartButtonEl.classList.add('colab-df-quickchart-complete');\n",
              "    }\n",
              "    (() => {\n",
              "      let quickchartButtonEl =\n",
              "        document.querySelector('#df-9d3fbc8e-b3e9-476c-8650-33ed3c74e71a button');\n",
              "      quickchartButtonEl.style.display =\n",
              "        google.colab.kernel.accessAllowed ? 'block' : 'none';\n",
              "    })();\n",
              "  </script>\n",
              "</div>\n",
              "    </div>\n",
              "  </div>\n"
            ]
          },
          "metadata": {},
          "execution_count": 113
        }
      ]
    },
    {
      "cell_type": "code",
      "source": [
        "from PIL import Image as Img\n",
        "\n",
        "pixels = df.iloc[0].to_numpy()[1:]\n",
        "pixels = np.reshape(pixels, (20, 20))\n",
        "\n",
        "img = Img.fromarray(pixels)\n",
        "img"
      ],
      "metadata": {
        "colab": {
          "base_uri": "https://localhost:8080/",
          "height": 37
        },
        "id": "RoN5IOQwdUi4",
        "outputId": "a5b4d7ce-8b0b-4ee9-f1b6-a52d5eeec6ef"
      },
      "execution_count": 115,
      "outputs": [
        {
          "output_type": "execute_result",
          "data": {
            "text/plain": [
              "<PIL.Image.Image image mode=L size=20x20>"
            ],
            "image/png": "[encoded data removed]"
          },
          "metadata": {},
          "execution_count": 115
        }
      ]
    },
    {
      "cell_type": "code",
      "source": [
        "def draw_image(pixel_arr):\n",
        "    pixels = np.reshape(pixel_arr, (20, 20))\n",
        "    img = Img.fromarray(pixels)\n",
        "    return img"
      ],
      "metadata": {
        "id": "FDaCeAZkJzCx"
      },
      "execution_count": 116,
      "outputs": []
    },
    {
      "cell_type": "markdown",
      "source": [
        "## Exportar"
      ],
      "metadata": {
        "id": "wGQVJaDat7BE"
      }
    },
    {
      "cell_type": "markdown",
      "source": [
        "Funciones para exportar dataset con 1000 filas por clase."
      ],
      "metadata": {
        "id": "GhfKjthEuRzk"
      }
    },
    {
      "cell_type": "code",
      "source": [
        "letters = np.zeros(shape=(26, 1000, 785))"
      ],
      "metadata": {
        "id": "w9fc8YmzoxZN"
      },
      "execution_count": null,
      "outputs": []
    },
    {
      "cell_type": "code",
      "source": [
        "# Asegurarse que todas las clases tengan 1000 datos como mínimo\n",
        "df.iloc[:, 0].value_counts()"
      ],
      "metadata": {
        "colab": {
          "base_uri": "https://localhost:8080/"
        },
        "id": "eAINksWtubt8",
        "outputId": "c9b7e2e1-909a-4675-a5ba-d43223d65af0"
      },
      "execution_count": null,
      "outputs": [
        {
          "output_type": "execute_result",
          "data": {
            "text/plain": [
              "0     1000\n",
              "1     1000\n",
              "24    1000\n",
              "23    1000\n",
              "22    1000\n",
              "21    1000\n",
              "20    1000\n",
              "19    1000\n",
              "18    1000\n",
              "17    1000\n",
              "16    1000\n",
              "15    1000\n",
              "14    1000\n",
              "13    1000\n",
              "12    1000\n",
              "11    1000\n",
              "10    1000\n",
              "9     1000\n",
              "8     1000\n",
              "7     1000\n",
              "6     1000\n",
              "5     1000\n",
              "4     1000\n",
              "3     1000\n",
              "2     1000\n",
              "25    1000\n",
              "Name: 0, dtype: int64"
            ]
          },
          "metadata": {},
          "execution_count": 363
        }
      ]
    },
    {
      "cell_type": "code",
      "source": [
        "for letter in range(26):\n",
        "    arr = df[df.iloc[:, 0] == letter].to_numpy()\n",
        "    arr = arr[:1000]\n",
        "    letters[letter] = arr"
      ],
      "metadata": {
        "id": "SEqef1m5p5I7"
      },
      "execution_count": null,
      "outputs": []
    },
    {
      "cell_type": "code",
      "source": [
        "flt_arr = letters.reshape(26000, 785)\n",
        "np.savetxt(\"sample.csv\", flt_arr.astype(int), fmt='%i', delimiter=\",\")"
      ],
      "metadata": {
        "id": "8hw3aAVRxKiM"
      },
      "execution_count": null,
      "outputs": []
    },
    {
      "cell_type": "markdown",
      "source": [],
      "metadata": {
        "id": "he2HouELWXBi"
      }
    },
    {
      "cell_type": "markdown",
      "source": [
        "## Aplicar bounding box a dataset"
      ],
      "metadata": {
        "id": "6crQGTluWYAk"
      }
    },
    {
      "cell_type": "code",
      "source": [
        "out_box_cols = []\n",
        "\n",
        "for i in range(1, 785):\n",
        "    x = (i-1) % 28\n",
        "    y = (i-1) // 28\n",
        "\n",
        "    # Pixeles fuera del centro de 20x20\n",
        "    if x < 4 or x > 23 or y < 4 or y > 23:\n",
        "        out_box_cols.append(i)"
      ],
      "metadata": {
        "id": "klY3FAL_WYAt"
      },
      "execution_count": null,
      "outputs": []
    },
    {
      "cell_type": "code",
      "source": [
        "sum = 0\n",
        "\n",
        "# Casillas no negras fuera del centro\n",
        "for col in out_box_cols:\n",
        "    sum += 26000 - df.iloc[:, col].value_counts()[0]\n",
        "\n",
        "sum"
      ],
      "metadata": {
        "colab": {
          "base_uri": "https://localhost:8080/"
        },
        "outputId": "ceb0d1d5-f4b7-43e7-b62f-9f33351751d3",
        "id": "1jjdf7ZQWYAt"
      },
      "execution_count": null,
      "outputs": [
        {
          "output_type": "execute_result",
          "data": {
            "text/plain": [
              "885"
            ]
          },
          "metadata": {},
          "execution_count": 101
        }
      ]
    },
    {
      "cell_type": "markdown",
      "source": [
        "Vemos que existe algo de ruido en las imágenes, pero si eliminamos estas casillas no debería afectar mucho..."
      ],
      "metadata": {
        "id": "JtSkElZNWYAt"
      }
    },
    {
      "cell_type": "code",
      "source": [
        "# 28x28 - 20x20\n",
        "len(out_box_cols)"
      ],
      "metadata": {
        "colab": {
          "base_uri": "https://localhost:8080/"
        },
        "outputId": "a84c2028-7823-41be-e894-ff21b9635a60",
        "id": "4KeyC4jhWYAt"
      },
      "execution_count": null,
      "outputs": [
        {
          "output_type": "execute_result",
          "data": {
            "text/plain": [
              "384"
            ]
          },
          "metadata": {},
          "execution_count": 107
        }
      ]
    },
    {
      "cell_type": "code",
      "source": [
        "df_box = df.drop(df.columns[out_box_cols], axis=1)"
      ],
      "metadata": {
        "id": "lLS5vguVWYAt"
      },
      "execution_count": null,
      "outputs": []
    },
    {
      "cell_type": "code",
      "source": [
        "pixels = df_box.iloc[0].to_numpy()[1:]\n",
        "pixels = np.reshape(pixels, (20, 20))\n",
        "\n",
        "img = Img.fromarray(pixels)\n",
        "img"
      ],
      "metadata": {
        "colab": {
          "base_uri": "https://localhost:8080/",
          "height": 37
        },
        "outputId": "12da9e8e-0bf9-42e4-a0e7-4ef0507e0cc4",
        "id": "CrwiQ0dhWYAt"
      },
      "execution_count": null,
      "outputs": [
        {
          "output_type": "execute_result",
          "data": {
            "text/plain": [
              "<PIL.Image.Image image mode=L size=20x20>"
            ],
            "image/png": "[encoded data removed]"
          },
          "metadata": {},
          "execution_count": 110
        }
      ]
    },
    {
      "cell_type": "code",
      "source": [
        "df_box_arr = df_box.to_numpy()\n",
        "np.savetxt(\"sample.csv\", df_box_arr.astype(int), fmt='%i', delimiter=\",\")"
      ],
      "metadata": {
        "id": "d91RiI8FWYAt"
      },
      "execution_count": null,
      "outputs": []
    },
    {
      "cell_type": "markdown",
      "source": [
        "# Modelo"
      ],
      "metadata": {
        "id": "ICxuUqBsjNcb"
      }
    },
    {
      "cell_type": "code",
      "source": [
        "from sklearn.model_selection import train_test_split\n",
        "\n",
        "Y = df.iloc[:, 0].values\n",
        "X = df.iloc[:, 1:].values\n",
        "\n",
        "X_train, X_test, Y_train, Y_test = train_test_split(X, Y, test_size=0.2, random_state=1, stratify=Y)"
      ],
      "metadata": {
        "id": "DffXy463kGBq"
      },
      "execution_count": 117,
      "outputs": []
    },
    {
      "cell_type": "markdown",
      "source": [
        "Creación del modelo"
      ],
      "metadata": {
        "id": "25eiYWRFCafX"
      }
    },
    {
      "cell_type": "code",
      "source": [
        "from keras import models\n",
        "from keras import layers\n",
        "\n",
        "model = models.Sequential()\n",
        "\n",
        "model.add(layers.Dense(100, activation='sigmoid', input_shape=(400,)))\n",
        "model.add(layers.Dense(26, activation='sigmoid'))\n",
        "\n",
        "model.compile(optimizer='adam', loss='sparse_categorical_crossentropy', metrics=['accuracy'])"
      ],
      "metadata": {
        "id": "6iAdzyBqjOpB"
      },
      "execution_count": 118,
      "outputs": []
    },
    {
      "cell_type": "markdown",
      "source": [
        "Entrenamiento"
      ],
      "metadata": {
        "id": "VVbMDwhvCaEa"
      }
    },
    {
      "cell_type": "code",
      "source": [
        "model.fit(X_train, Y_train, epochs=100)"
      ],
      "metadata": {
        "colab": {
          "base_uri": "https://localhost:8080/"
        },
        "id": "3st7F1CVCYlf",
        "outputId": "1cc6bc2f-2a20-4611-cdaa-6fcbd30b04fe"
      },
      "execution_count": 119,
      "outputs": [
        {
          "output_type": "stream",
          "name": "stdout",
          "text": [
            "Epoch 1/100\n",
            "650/650 [==============================] - 2s 2ms/step - loss: 2.0100 - accuracy: 0.4980\n",
            "Epoch 2/100\n",
            "650/650 [==============================] - 1s 2ms/step - loss: 1.1165 - accuracy: 0.7205\n",
            "Epoch 3/100\n",
            "650/650 [==============================] - 1s 2ms/step - loss: 0.8918 - accuracy: 0.7656\n",
            "Epoch 4/100\n",
            "650/650 [==============================] - 1s 2ms/step - loss: 0.8356 - accuracy: 0.7752\n",
            "Epoch 5/100\n",
            "650/650 [==============================] - 1s 2ms/step - loss: 0.7582 - accuracy: 0.7878\n",
            "Epoch 6/100\n",
            "650/650 [==============================] - 1s 2ms/step - loss: 0.7514 - accuracy: 0.7895\n",
            "Epoch 7/100\n",
            "650/650 [==============================] - 2s 3ms/step - loss: 0.7222 - accuracy: 0.7963\n",
            "Epoch 8/100\n",
            "650/650 [==============================] - 2s 3ms/step - loss: 0.6738 - accuracy: 0.8118\n",
            "Epoch 9/100\n",
            "650/650 [==============================] - 1s 2ms/step - loss: 0.6600 - accuracy: 0.8111\n",
            "Epoch 10/100\n",
            "650/650 [==============================] - 1s 2ms/step - loss: 0.6630 - accuracy: 0.8097\n",
            "Epoch 11/100\n",
            "650/650 [==============================] - 1s 2ms/step - loss: 0.6425 - accuracy: 0.8167\n",
            "Epoch 12/100\n",
            "650/650 [==============================] - 1s 2ms/step - loss: 0.6449 - accuracy: 0.8125\n",
            "Epoch 13/100\n",
            "650/650 [==============================] - 1s 2ms/step - loss: 0.6080 - accuracy: 0.8251\n",
            "Epoch 14/100\n",
            "650/650 [==============================] - 2s 3ms/step - loss: 0.5906 - accuracy: 0.8256\n",
            "Epoch 15/100\n",
            "650/650 [==============================] - 1s 2ms/step - loss: 0.5734 - accuracy: 0.8306\n",
            "Epoch 16/100\n",
            "650/650 [==============================] - 2s 3ms/step - loss: 0.5760 - accuracy: 0.8322\n",
            "Epoch 17/100\n",
            "650/650 [==============================] - 2s 2ms/step - loss: 0.5650 - accuracy: 0.8359\n",
            "Epoch 18/100\n",
            "650/650 [==============================] - 1s 2ms/step - loss: 0.5666 - accuracy: 0.8340\n",
            "Epoch 19/100\n",
            "650/650 [==============================] - 1s 2ms/step - loss: 0.5750 - accuracy: 0.8309\n",
            "Epoch 20/100\n",
            "650/650 [==============================] - 1s 2ms/step - loss: 0.5588 - accuracy: 0.8360\n",
            "Epoch 21/100\n",
            "650/650 [==============================] - 1s 2ms/step - loss: 0.5365 - accuracy: 0.8428\n",
            "Epoch 22/100\n",
            "650/650 [==============================] - 1s 2ms/step - loss: 0.5228 - accuracy: 0.8435\n",
            "Epoch 23/100\n",
            "650/650 [==============================] - 1s 2ms/step - loss: 0.5378 - accuracy: 0.8417\n",
            "Epoch 24/100\n",
            "650/650 [==============================] - 1s 2ms/step - loss: 0.5261 - accuracy: 0.8462\n",
            "Epoch 25/100\n",
            "650/650 [==============================] - 2s 3ms/step - loss: 0.5304 - accuracy: 0.8457\n",
            "Epoch 26/100\n",
            "650/650 [==============================] - 2s 3ms/step - loss: 0.5349 - accuracy: 0.8400\n",
            "Epoch 27/100\n",
            "650/650 [==============================] - 1s 2ms/step - loss: 0.5253 - accuracy: 0.8445\n",
            "Epoch 28/100\n",
            "650/650 [==============================] - 2s 2ms/step - loss: 0.5211 - accuracy: 0.8473\n",
            "Epoch 29/100\n",
            "650/650 [==============================] - 2s 3ms/step - loss: 0.5130 - accuracy: 0.8480\n",
            "Epoch 30/100\n",
            "650/650 [==============================] - 2s 3ms/step - loss: 0.4955 - accuracy: 0.8534\n",
            "Epoch 31/100\n",
            "650/650 [==============================] - 1s 2ms/step - loss: 0.4823 - accuracy: 0.8568\n",
            "Epoch 32/100\n",
            "650/650 [==============================] - 1s 2ms/step - loss: 0.4862 - accuracy: 0.8575\n",
            "Epoch 33/100\n",
            "650/650 [==============================] - 2s 2ms/step - loss: 0.4874 - accuracy: 0.8519\n",
            "Epoch 34/100\n",
            "650/650 [==============================] - 2s 4ms/step - loss: 0.4792 - accuracy: 0.8551\n",
            "Epoch 35/100\n",
            "650/650 [==============================] - 2s 3ms/step - loss: 0.4852 - accuracy: 0.8545\n",
            "Epoch 36/100\n",
            "650/650 [==============================] - 2s 3ms/step - loss: 0.5063 - accuracy: 0.8482\n",
            "Epoch 37/100\n",
            "650/650 [==============================] - 3s 4ms/step - loss: 0.4976 - accuracy: 0.8534\n",
            "Epoch 38/100\n",
            "650/650 [==============================] - 1s 2ms/step - loss: 0.4690 - accuracy: 0.8620\n",
            "Epoch 39/100\n",
            "650/650 [==============================] - 1s 2ms/step - loss: 0.4695 - accuracy: 0.8611\n",
            "Epoch 40/100\n",
            "650/650 [==============================] - 1s 2ms/step - loss: 0.4697 - accuracy: 0.8622\n",
            "Epoch 41/100\n",
            "650/650 [==============================] - 2s 3ms/step - loss: 0.4691 - accuracy: 0.8599\n",
            "Epoch 42/100\n",
            "650/650 [==============================] - 2s 3ms/step - loss: 0.4535 - accuracy: 0.8660\n",
            "Epoch 43/100\n",
            "650/650 [==============================] - 2s 3ms/step - loss: 0.4572 - accuracy: 0.8643\n",
            "Epoch 44/100\n",
            "650/650 [==============================] - 1s 2ms/step - loss: 0.4447 - accuracy: 0.8674\n",
            "Epoch 45/100\n",
            "650/650 [==============================] - 1s 2ms/step - loss: 0.4567 - accuracy: 0.8623\n",
            "Epoch 46/100\n",
            "650/650 [==============================] - 2s 3ms/step - loss: 0.4600 - accuracy: 0.8634\n",
            "Epoch 47/100\n",
            "650/650 [==============================] - 1s 2ms/step - loss: 0.4526 - accuracy: 0.8620\n",
            "Epoch 48/100\n",
            "650/650 [==============================] - 1s 2ms/step - loss: 0.4412 - accuracy: 0.8673\n",
            "Epoch 49/100\n",
            "650/650 [==============================] - 1s 2ms/step - loss: 0.4364 - accuracy: 0.8686\n",
            "Epoch 50/100\n",
            "650/650 [==============================] - 2s 3ms/step - loss: 0.4335 - accuracy: 0.8689\n",
            "Epoch 51/100\n",
            "650/650 [==============================] - 2s 3ms/step - loss: 0.4182 - accuracy: 0.8729\n",
            "Epoch 52/100\n",
            "650/650 [==============================] - 1s 2ms/step - loss: 0.4359 - accuracy: 0.8679\n",
            "Epoch 53/100\n",
            "650/650 [==============================] - 1s 2ms/step - loss: 0.4337 - accuracy: 0.8700\n",
            "Epoch 54/100\n",
            "650/650 [==============================] - 1s 2ms/step - loss: 0.4223 - accuracy: 0.8747\n",
            "Epoch 55/100\n",
            "650/650 [==============================] - 1s 2ms/step - loss: 0.4212 - accuracy: 0.8713\n",
            "Epoch 56/100\n",
            "650/650 [==============================] - 1s 2ms/step - loss: 0.4183 - accuracy: 0.8709\n",
            "Epoch 57/100\n",
            "650/650 [==============================] - 1s 2ms/step - loss: 0.4054 - accuracy: 0.8776\n",
            "Epoch 58/100\n",
            "650/650 [==============================] - 1s 2ms/step - loss: 0.4078 - accuracy: 0.8766\n",
            "Epoch 59/100\n",
            "650/650 [==============================] - 2s 3ms/step - loss: 0.4143 - accuracy: 0.8780\n",
            "Epoch 60/100\n",
            "650/650 [==============================] - 2s 3ms/step - loss: 0.4056 - accuracy: 0.8799\n",
            "Epoch 61/100\n",
            "650/650 [==============================] - 1s 2ms/step - loss: 0.4259 - accuracy: 0.8721\n",
            "Epoch 62/100\n",
            "650/650 [==============================] - 1s 2ms/step - loss: 0.4212 - accuracy: 0.8736\n",
            "Epoch 63/100\n",
            "650/650 [==============================] - 1s 2ms/step - loss: 0.4159 - accuracy: 0.8774\n",
            "Epoch 64/100\n",
            "650/650 [==============================] - 1s 2ms/step - loss: 0.3917 - accuracy: 0.8826\n",
            "Epoch 65/100\n",
            "650/650 [==============================] - 1s 2ms/step - loss: 0.3919 - accuracy: 0.8842\n",
            "Epoch 66/100\n",
            "650/650 [==============================] - 1s 2ms/step - loss: 0.4053 - accuracy: 0.8801\n",
            "Epoch 67/100\n",
            "650/650 [==============================] - 2s 2ms/step - loss: 0.4003 - accuracy: 0.8815\n",
            "Epoch 68/100\n",
            "650/650 [==============================] - 2s 3ms/step - loss: 0.4072 - accuracy: 0.8753\n",
            "Epoch 69/100\n",
            "650/650 [==============================] - 2s 3ms/step - loss: 0.4019 - accuracy: 0.8781\n",
            "Epoch 70/100\n",
            "650/650 [==============================] - 1s 2ms/step - loss: 0.4044 - accuracy: 0.8791\n",
            "Epoch 71/100\n",
            "650/650 [==============================] - 1s 2ms/step - loss: 0.4047 - accuracy: 0.8763\n",
            "Epoch 72/100\n",
            "650/650 [==============================] - 2s 3ms/step - loss: 0.3914 - accuracy: 0.8816\n",
            "Epoch 73/100\n",
            "650/650 [==============================] - 2s 3ms/step - loss: 0.3823 - accuracy: 0.8850\n",
            "Epoch 74/100\n",
            "650/650 [==============================] - 3s 4ms/step - loss: 0.3779 - accuracy: 0.8869\n",
            "Epoch 75/100\n",
            "650/650 [==============================] - 2s 2ms/step - loss: 0.4025 - accuracy: 0.8795\n",
            "Epoch 76/100\n",
            "650/650 [==============================] - 2s 3ms/step - loss: 0.3761 - accuracy: 0.8851\n",
            "Epoch 77/100\n",
            "650/650 [==============================] - 1s 2ms/step - loss: 0.3698 - accuracy: 0.8897\n",
            "Epoch 78/100\n",
            "650/650 [==============================] - 1s 2ms/step - loss: 0.3720 - accuracy: 0.8898\n",
            "Epoch 79/100\n",
            "650/650 [==============================] - 1s 2ms/step - loss: 0.3672 - accuracy: 0.8905\n",
            "Epoch 80/100\n",
            "650/650 [==============================] - 1s 2ms/step - loss: 0.3629 - accuracy: 0.8907\n",
            "Epoch 81/100\n",
            "650/650 [==============================] - 1s 2ms/step - loss: 0.3563 - accuracy: 0.8947\n",
            "Epoch 82/100\n",
            "650/650 [==============================] - 1s 2ms/step - loss: 0.3717 - accuracy: 0.8891\n",
            "Epoch 83/100\n",
            "650/650 [==============================] - 1s 2ms/step - loss: 0.3751 - accuracy: 0.8855\n",
            "Epoch 84/100\n",
            "650/650 [==============================] - 2s 2ms/step - loss: 0.3697 - accuracy: 0.8899\n",
            "Epoch 85/100\n",
            "650/650 [==============================] - 2s 3ms/step - loss: 0.3521 - accuracy: 0.8934\n",
            "Epoch 86/100\n",
            "650/650 [==============================] - 1s 2ms/step - loss: 0.3483 - accuracy: 0.8916\n",
            "Epoch 87/100\n",
            "650/650 [==============================] - 1s 2ms/step - loss: 0.3417 - accuracy: 0.8977\n",
            "Epoch 88/100\n",
            "650/650 [==============================] - 1s 2ms/step - loss: 0.3409 - accuracy: 0.8982\n",
            "Epoch 89/100\n",
            "650/650 [==============================] - 1s 2ms/step - loss: 0.3335 - accuracy: 0.9002\n",
            "Epoch 90/100\n",
            "650/650 [==============================] - 1s 2ms/step - loss: 0.3373 - accuracy: 0.8977\n",
            "Epoch 91/100\n",
            "650/650 [==============================] - 1s 2ms/step - loss: 0.3431 - accuracy: 0.8949\n",
            "Epoch 92/100\n",
            "650/650 [==============================] - 1s 2ms/step - loss: 0.3438 - accuracy: 0.8976\n",
            "Epoch 93/100\n",
            "650/650 [==============================] - 1s 2ms/step - loss: 0.3516 - accuracy: 0.8938\n",
            "Epoch 94/100\n",
            "650/650 [==============================] - 3s 5ms/step - loss: 0.3604 - accuracy: 0.8914\n",
            "Epoch 95/100\n",
            "650/650 [==============================] - 1s 2ms/step - loss: 0.3503 - accuracy: 0.8944\n",
            "Epoch 96/100\n",
            "650/650 [==============================] - 1s 2ms/step - loss: 0.3524 - accuracy: 0.8930\n",
            "Epoch 97/100\n",
            "650/650 [==============================] - 1s 2ms/step - loss: 0.3424 - accuracy: 0.8981\n",
            "Epoch 98/100\n",
            "650/650 [==============================] - 1s 2ms/step - loss: 0.3463 - accuracy: 0.8957\n",
            "Epoch 99/100\n",
            "650/650 [==============================] - 1s 2ms/step - loss: 0.3334 - accuracy: 0.8991\n",
            "Epoch 100/100\n",
            "650/650 [==============================] - 1s 2ms/step - loss: 0.3261 - accuracy: 0.9031\n"
          ]
        },
        {
          "output_type": "execute_result",
          "data": {
            "text/plain": [
              "<keras.src.callbacks.History at 0x7c93d9a12d10>"
            ]
          },
          "metadata": {},
          "execution_count": 119
        }
      ]
    },
    {
      "cell_type": "markdown",
      "source": [
        "Validación con datos de prueba: entropía categórica - accuracy"
      ],
      "metadata": {
        "id": "W_VqEB1jEbia"
      }
    },
    {
      "cell_type": "code",
      "source": [
        "model.evaluate(X_test, Y_test, verbose=False)"
      ],
      "metadata": {
        "colab": {
          "base_uri": "https://localhost:8080/"
        },
        "id": "lMTOL-_2DxVu",
        "outputId": "0006b6bb-72d6-490b-c2a4-8851c506c105"
      },
      "execution_count": 120,
      "outputs": [
        {
          "output_type": "execute_result",
          "data": {
            "text/plain": [
              "[0.4159681499004364, 0.8826923370361328]"
            ]
          },
          "metadata": {},
          "execution_count": 120
        }
      ]
    },
    {
      "cell_type": "code",
      "source": [
        "def predict(test_set, idx):\n",
        "    prob = model.predict(test_set[idx:idx+1])\n",
        "    pred = prob.argmax()\n",
        "    letter = chr(ord('A') + pred)\n",
        "\n",
        "    print(letter)\n",
        "    return draw_image(test_set[idx])"
      ],
      "metadata": {
        "id": "jUStg8L-FIU5"
      },
      "execution_count": 121,
      "outputs": []
    },
    {
      "cell_type": "code",
      "source": [
        "from io import BytesIO\n",
        "from IPython.display import display, Image\n",
        "\n",
        "for i in range(10):\n",
        "    img = predict(X_test, i)\n",
        "    bio = BytesIO()\n",
        "    img.save(bio, format='png')\n",
        "    display(Image(bio.getvalue(), format='png'))"
      ],
      "metadata": {
        "colab": {
          "base_uri": "https://localhost:8080/",
          "height": 564
        },
        "id": "lw5-9WLPLw0B",
        "outputId": "d8c7d75d-b2e1-4d44-c3c1-0cf3541bf815"
      },
      "execution_count": 122,
      "outputs": [
        {
          "output_type": "stream",
          "name": "stdout",
          "text": [
            "1/1 [==============================] - 0s 95ms/step\n",
            "S\n"
          ]
        },
        {
          "output_type": "display_data",
          "data": {
            "image/png": "[encoded data removed]",
            "text/plain": [
              "<IPython.core.display.Image object>"
            ]
          },
          "metadata": {}
        },
        {
          "output_type": "stream",
          "name": "stdout",
          "text": [
            "1/1 [==============================] - 0s 20ms/step\n",
            "O\n"
          ]
        },
        {
          "output_type": "display_data",
          "data": {
            "image/png": "[encoded data removed]",
            "text/plain": [
              "<IPython.core.display.Image object>"
            ]
          },
          "metadata": {}
        },
        {
          "output_type": "stream",
          "name": "stdout",
          "text": [
            "1/1 [==============================] - 0s 26ms/step\n",
            "M\n"
          ]
        },
        {
          "output_type": "display_data",
          "data": {
            "image/png": "[encoded data removed]",
            "text/plain": [
              "<IPython.core.display.Image object>"
            ]
          },
          "metadata": {}
        },
        {
          "output_type": "stream",
          "name": "stdout",
          "text": [
            "1/1 [==============================] - 0s 22ms/step\n",
            "A\n"
          ]
        },
        {
          "output_type": "display_data",
          "data": {
            "image/png": "[encoded data removed]",
            "text/plain": [
              "<IPython.core.display.Image object>"
            ]
          },
          "metadata": {}
        },
        {
          "output_type": "stream",
          "name": "stdout",
          "text": [
            "1/1 [==============================] - 0s 23ms/step\n",
            "W\n"
          ]
        },
        {
          "output_type": "display_data",
          "data": {
            "image/png": "[encoded data removed]",
            "text/plain": [
              "<IPython.core.display.Image object>"
            ]
          },
          "metadata": {}
        },
        {
          "output_type": "stream",
          "name": "stdout",
          "text": [
            "1/1 [==============================] - 0s 23ms/step\n",
            "A\n"
          ]
        },
        {
          "output_type": "display_data",
          "data": {
            "image/png": "[encoded data removed]",
            "text/plain": [
              "<IPython.core.display.Image object>"
            ]
          },
          "metadata": {}
        },
        {
          "output_type": "stream",
          "name": "stdout",
          "text": [
            "1/1 [==============================] - 0s 22ms/step\n",
            "S\n"
          ]
        },
        {
          "output_type": "display_data",
          "data": {
            "image/png": "[encoded data removed]",
            "text/plain": [
              "<IPython.core.display.Image object>"
            ]
          },
          "metadata": {}
        },
        {
          "output_type": "stream",
          "name": "stdout",
          "text": [
            "1/1 [==============================] - 0s 21ms/step\n",
            "K\n"
          ]
        },
        {
          "output_type": "display_data",
          "data": {
            "image/png": "[encoded data removed]",
            "text/plain": [
              "<IPython.core.display.Image object>"
            ]
          },
          "metadata": {}
        },
        {
          "output_type": "stream",
          "name": "stdout",
          "text": [
            "1/1 [==============================] - 0s 21ms/step\n",
            "D\n"
          ]
        },
        {
          "output_type": "display_data",
          "data": {
            "image/png": "[encoded data removed]",
            "text/plain": [
              "<IPython.core.display.Image object>"
            ]
          },
          "metadata": {}
        },
        {
          "output_type": "stream",
          "name": "stdout",
          "text": [
            "1/1 [==============================] - 0s 22ms/step\n",
            "E\n"
          ]
        },
        {
          "output_type": "display_data",
          "data": {
            "image/png": "[encoded data removed]",
            "text/plain": [
              "<IPython.core.display.Image object>"
            ]
          },
          "metadata": {}
        }
      ]
    }
  ]
}