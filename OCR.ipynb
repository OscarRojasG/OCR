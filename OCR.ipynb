{
  "nbformat": 4,
  "nbformat_minor": 0,
  "metadata": {
    "colab": {
      "provenance": [],
      "authorship_tag": "ABX9TyMptpZcXD1kw2v1EB/zfmnJ",
      "include_colab_link": true
    },
    "kernelspec": {
      "name": "python3",
      "display_name": "Python 3"
    },
    "language_info": {
      "name": "python"
    }
  },
  "cells": [
    {
      "cell_type": "markdown",
      "metadata": {
        "id": "view-in-github",
        "colab_type": "text"
      },
      "source": [
        "<a href=\"https://colab.research.google.com/github/OscarRojasG/OCR/blob/main/OCR.ipynb\" target=\"_parent\"><img src=\"https://colab.research.google.com/assets/colab-badge.svg\" alt=\"Open In Colab\"/></a>"
      ]
    },
    {
      "cell_type": "markdown",
      "source": [
        "# Dataset"
      ],
      "metadata": {
        "id": "c4vPnIAu6BIf"
      }
    },
    {
      "cell_type": "markdown",
      "source": [
        "The dataset contains 26 folders (A-Z) containing handwritten images in size 28x28 pixels, each alphabet in the image is centre fitted to 20x20 pixel box.\n",
        "\n",
        "Each image is stored as Gray-level\n",
        "\n",
        "https://www.kaggle.com/datasets/sachinpatel21/az-handwritten-alphabets-in-csv-format/"
      ],
      "metadata": {
        "id": "fHkRcQkFcKbI"
      }
    },
    {
      "cell_type": "markdown",
      "source": [
        "## Cargar dataset completo"
      ],
      "metadata": {
        "id": "TPLA4aaF9iZu"
      }
    },
    {
      "cell_type": "markdown",
      "source": [
        "No recomendable... se agota la RAM de colab y tarda demasiado en cargar.\n",
        "\n",
        "Se recomienda reducir el volumen del dataset (revisar sección \"Exportar\")."
      ],
      "metadata": {
        "id": "8nnUWy8j94H-"
      }
    },
    {
      "cell_type": "code",
      "execution_count": 175,
      "metadata": {
        "colab": {
          "base_uri": "https://localhost:8080/",
          "height": 235
        },
        "id": "uQQhVkmQW15g",
        "outputId": "7987c719-e084-4fbd-d24e-219aec8d7026"
      },
      "outputs": [
        {
          "output_type": "execute_result",
          "data": {
            "text/plain": [
              "   0    1    2    3    4    5    6    7    8    9    ...  775  776  777  778  \\\n",
              "0    0    0    0    0    0    0    0    0    0    0  ...    0    0    0    0   \n",
              "1    0    0    0    0    0    0    0    0    0    0  ...    0    0    0    0   \n",
              "2    0    0    0    0    0    0    0    0    0    0  ...    0    0    0    0   \n",
              "3    0    0    0    0    0    0    0    0    0    0  ...    0    0    0    0   \n",
              "4    0    0    0    0    0    0    0    0    0    0  ...    0    0    0    0   \n",
              "\n",
              "   779  780  781  782  783  784  \n",
              "0    0    0    0    0    0    0  \n",
              "1    0    0    0    0    0    0  \n",
              "2    0    0    0    0    0    0  \n",
              "3    0    0    0    0    0    0  \n",
              "4    0    0    0    0    0    0  \n",
              "\n",
              "[5 rows x 785 columns]"
            ],
            "text/html": [
              "\n",
              "  <div id=\"df-9a2c7771-ff8a-44bc-9ad6-a175128a1e1d\" class=\"colab-df-container\">\n",
              "    <div>\n",
              "<style scoped>\n",
              "    .dataframe tbody tr th:only-of-type {\n",
              "        vertical-align: middle;\n",
              "    }\n",
              "\n",
              "    .dataframe tbody tr th {\n",
              "        vertical-align: top;\n",
              "    }\n",
              "\n",
              "    .dataframe thead th {\n",
              "        text-align: right;\n",
              "    }\n",
              "</style>\n",
              "<table border=\"1\" class=\"dataframe\">\n",
              "  <thead>\n",
              "    <tr style=\"text-align: right;\">\n",
              "      <th></th>\n",
              "      <th>0</th>\n",
              "      <th>1</th>\n",
              "      <th>2</th>\n",
              "      <th>3</th>\n",
              "      <th>4</th>\n",
              "      <th>5</th>\n",
              "      <th>6</th>\n",
              "      <th>7</th>\n",
              "      <th>8</th>\n",
              "      <th>9</th>\n",
              "      <th>...</th>\n",
              "      <th>775</th>\n",
              "      <th>776</th>\n",
              "      <th>777</th>\n",
              "      <th>778</th>\n",
              "      <th>779</th>\n",
              "      <th>780</th>\n",
              "      <th>781</th>\n",
              "      <th>782</th>\n",
              "      <th>783</th>\n",
              "      <th>784</th>\n",
              "    </tr>\n",
              "  </thead>\n",
              "  <tbody>\n",
              "    <tr>\n",
              "      <th>0</th>\n",
              "      <td>0</td>\n",
              "      <td>0</td>\n",
              "      <td>0</td>\n",
              "      <td>0</td>\n",
              "      <td>0</td>\n",
              "      <td>0</td>\n",
              "      <td>0</td>\n",
              "      <td>0</td>\n",
              "      <td>0</td>\n",
              "      <td>0</td>\n",
              "      <td>...</td>\n",
              "      <td>0</td>\n",
              "      <td>0</td>\n",
              "      <td>0</td>\n",
              "      <td>0</td>\n",
              "      <td>0</td>\n",
              "      <td>0</td>\n",
              "      <td>0</td>\n",
              "      <td>0</td>\n",
              "      <td>0</td>\n",
              "      <td>0</td>\n",
              "    </tr>\n",
              "    <tr>\n",
              "      <th>1</th>\n",
              "      <td>0</td>\n",
              "      <td>0</td>\n",
              "      <td>0</td>\n",
              "      <td>0</td>\n",
              "      <td>0</td>\n",
              "      <td>0</td>\n",
              "      <td>0</td>\n",
              "      <td>0</td>\n",
              "      <td>0</td>\n",
              "      <td>0</td>\n",
              "      <td>...</td>\n",
              "      <td>0</td>\n",
              "      <td>0</td>\n",
              "      <td>0</td>\n",
              "      <td>0</td>\n",
              "      <td>0</td>\n",
              "      <td>0</td>\n",
              "      <td>0</td>\n",
              "      <td>0</td>\n",
              "      <td>0</td>\n",
              "      <td>0</td>\n",
              "    </tr>\n",
              "    <tr>\n",
              "      <th>2</th>\n",
              "      <td>0</td>\n",
              "      <td>0</td>\n",
              "      <td>0</td>\n",
              "      <td>0</td>\n",
              "      <td>0</td>\n",
              "      <td>0</td>\n",
              "      <td>0</td>\n",
              "      <td>0</td>\n",
              "      <td>0</td>\n",
              "      <td>0</td>\n",
              "      <td>...</td>\n",
              "      <td>0</td>\n",
              "      <td>0</td>\n",
              "      <td>0</td>\n",
              "      <td>0</td>\n",
              "      <td>0</td>\n",
              "      <td>0</td>\n",
              "      <td>0</td>\n",
              "      <td>0</td>\n",
              "      <td>0</td>\n",
              "      <td>0</td>\n",
              "    </tr>\n",
              "    <tr>\n",
              "      <th>3</th>\n",
              "      <td>0</td>\n",
              "      <td>0</td>\n",
              "      <td>0</td>\n",
              "      <td>0</td>\n",
              "      <td>0</td>\n",
              "      <td>0</td>\n",
              "      <td>0</td>\n",
              "      <td>0</td>\n",
              "      <td>0</td>\n",
              "      <td>0</td>\n",
              "      <td>...</td>\n",
              "      <td>0</td>\n",
              "      <td>0</td>\n",
              "      <td>0</td>\n",
              "      <td>0</td>\n",
              "      <td>0</td>\n",
              "      <td>0</td>\n",
              "      <td>0</td>\n",
              "      <td>0</td>\n",
              "      <td>0</td>\n",
              "      <td>0</td>\n",
              "    </tr>\n",
              "    <tr>\n",
              "      <th>4</th>\n",
              "      <td>0</td>\n",
              "      <td>0</td>\n",
              "      <td>0</td>\n",
              "      <td>0</td>\n",
              "      <td>0</td>\n",
              "      <td>0</td>\n",
              "      <td>0</td>\n",
              "      <td>0</td>\n",
              "      <td>0</td>\n",
              "      <td>0</td>\n",
              "      <td>...</td>\n",
              "      <td>0</td>\n",
              "      <td>0</td>\n",
              "      <td>0</td>\n",
              "      <td>0</td>\n",
              "      <td>0</td>\n",
              "      <td>0</td>\n",
              "      <td>0</td>\n",
              "      <td>0</td>\n",
              "      <td>0</td>\n",
              "      <td>0</td>\n",
              "    </tr>\n",
              "  </tbody>\n",
              "</table>\n",
              "<p>5 rows × 785 columns</p>\n",
              "</div>\n",
              "    <div class=\"colab-df-buttons\">\n",
              "\n",
              "  <div class=\"colab-df-container\">\n",
              "    <button class=\"colab-df-convert\" onclick=\"convertToInteractive('df-9a2c7771-ff8a-44bc-9ad6-a175128a1e1d')\"\n",
              "            title=\"Convert this dataframe to an interactive table.\"\n",
              "            style=\"display:none;\">\n",
              "\n",
              "  <svg xmlns=\"http://www.w3.org/2000/svg\" height=\"24px\" viewBox=\"0 -960 960 960\">\n",
              "    <path d=\"M120-120v-720h720v720H120Zm60-500h600v-160H180v160Zm220 220h160v-160H400v160Zm0 220h160v-160H400v160ZM180-400h160v-160H180v160Zm440 0h160v-160H620v160ZM180-180h160v-160H180v160Zm440 0h160v-160H620v160Z\"/>\n",
              "  </svg>\n",
              "    </button>\n",
              "\n",
              "  <style>\n",
              "    .colab-df-container {\n",
              "      display:flex;\n",
              "      gap: 12px;\n",
              "    }\n",
              "\n",
              "    .colab-df-convert {\n",
              "      background-color: #E8F0FE;\n",
              "      border: none;\n",
              "      border-radius: 50%;\n",
              "      cursor: pointer;\n",
              "      display: none;\n",
              "      fill: #1967D2;\n",
              "      height: 32px;\n",
              "      padding: 0 0 0 0;\n",
              "      width: 32px;\n",
              "    }\n",
              "\n",
              "    .colab-df-convert:hover {\n",
              "      background-color: #E2EBFA;\n",
              "      box-shadow: 0px 1px 2px rgba(60, 64, 67, 0.3), 0px 1px 3px 1px rgba(60, 64, 67, 0.15);\n",
              "      fill: #174EA6;\n",
              "    }\n",
              "\n",
              "    .colab-df-buttons div {\n",
              "      margin-bottom: 4px;\n",
              "    }\n",
              "\n",
              "    [theme=dark] .colab-df-convert {\n",
              "      background-color: #3B4455;\n",
              "      fill: #D2E3FC;\n",
              "    }\n",
              "\n",
              "    [theme=dark] .colab-df-convert:hover {\n",
              "      background-color: #434B5C;\n",
              "      box-shadow: 0px 1px 3px 1px rgba(0, 0, 0, 0.15);\n",
              "      filter: drop-shadow(0px 1px 2px rgba(0, 0, 0, 0.3));\n",
              "      fill: #FFFFFF;\n",
              "    }\n",
              "  </style>\n",
              "\n",
              "    <script>\n",
              "      const buttonEl =\n",
              "        document.querySelector('#df-9a2c7771-ff8a-44bc-9ad6-a175128a1e1d button.colab-df-convert');\n",
              "      buttonEl.style.display =\n",
              "        google.colab.kernel.accessAllowed ? 'block' : 'none';\n",
              "\n",
              "      async function convertToInteractive(key) {\n",
              "        const element = document.querySelector('#df-9a2c7771-ff8a-44bc-9ad6-a175128a1e1d');\n",
              "        const dataTable =\n",
              "          await google.colab.kernel.invokeFunction('convertToInteractive',\n",
              "                                                    [key], {});\n",
              "        if (!dataTable) return;\n",
              "\n",
              "        const docLinkHtml = 'Like what you see? Visit the ' +\n",
              "          '<a target=\"_blank\" href=https://colab.research.google.com/notebooks/data_table.ipynb>data table notebook</a>'\n",
              "          + ' to learn more about interactive tables.';\n",
              "        element.innerHTML = '';\n",
              "        dataTable['output_type'] = 'display_data';\n",
              "        await google.colab.output.renderOutput(dataTable, element);\n",
              "        const docLink = document.createElement('div');\n",
              "        docLink.innerHTML = docLinkHtml;\n",
              "        element.appendChild(docLink);\n",
              "      }\n",
              "    </script>\n",
              "  </div>\n",
              "\n",
              "\n",
              "<div id=\"df-75528ea2-f7d1-48d8-bce9-36e357948921\">\n",
              "  <button class=\"colab-df-quickchart\" onclick=\"quickchart('df-75528ea2-f7d1-48d8-bce9-36e357948921')\"\n",
              "            title=\"Suggest charts.\"\n",
              "            style=\"display:none;\">\n",
              "\n",
              "<svg xmlns=\"http://www.w3.org/2000/svg\" height=\"24px\"viewBox=\"0 0 24 24\"\n",
              "     width=\"24px\">\n",
              "    <g>\n",
              "        <path d=\"M19 3H5c-1.1 0-2 .9-2 2v14c0 1.1.9 2 2 2h14c1.1 0 2-.9 2-2V5c0-1.1-.9-2-2-2zM9 17H7v-7h2v7zm4 0h-2V7h2v10zm4 0h-2v-4h2v4z\"/>\n",
              "    </g>\n",
              "</svg>\n",
              "  </button>\n",
              "\n",
              "<style>\n",
              "  .colab-df-quickchart {\n",
              "      --bg-color: #E8F0FE;\n",
              "      --fill-color: #1967D2;\n",
              "      --hover-bg-color: #E2EBFA;\n",
              "      --hover-fill-color: #174EA6;\n",
              "      --disabled-fill-color: #AAA;\n",
              "      --disabled-bg-color: #DDD;\n",
              "  }\n",
              "\n",
              "  [theme=dark] .colab-df-quickchart {\n",
              "      --bg-color: #3B4455;\n",
              "      --fill-color: #D2E3FC;\n",
              "      --hover-bg-color: #434B5C;\n",
              "      --hover-fill-color: #FFFFFF;\n",
              "      --disabled-bg-color: #3B4455;\n",
              "      --disabled-fill-color: #666;\n",
              "  }\n",
              "\n",
              "  .colab-df-quickchart {\n",
              "    background-color: var(--bg-color);\n",
              "    border: none;\n",
              "    border-radius: 50%;\n",
              "    cursor: pointer;\n",
              "    display: none;\n",
              "    fill: var(--fill-color);\n",
              "    height: 32px;\n",
              "    padding: 0;\n",
              "    width: 32px;\n",
              "  }\n",
              "\n",
              "  .colab-df-quickchart:hover {\n",
              "    background-color: var(--hover-bg-color);\n",
              "    box-shadow: 0 1px 2px rgba(60, 64, 67, 0.3), 0 1px 3px 1px rgba(60, 64, 67, 0.15);\n",
              "    fill: var(--button-hover-fill-color);\n",
              "  }\n",
              "\n",
              "  .colab-df-quickchart-complete:disabled,\n",
              "  .colab-df-quickchart-complete:disabled:hover {\n",
              "    background-color: var(--disabled-bg-color);\n",
              "    fill: var(--disabled-fill-color);\n",
              "    box-shadow: none;\n",
              "  }\n",
              "\n",
              "  .colab-df-spinner {\n",
              "    border: 2px solid var(--fill-color);\n",
              "    border-color: transparent;\n",
              "    border-bottom-color: var(--fill-color);\n",
              "    animation:\n",
              "      spin 1s steps(1) infinite;\n",
              "  }\n",
              "\n",
              "  @keyframes spin {\n",
              "    0% {\n",
              "      border-color: transparent;\n",
              "      border-bottom-color: var(--fill-color);\n",
              "      border-left-color: var(--fill-color);\n",
              "    }\n",
              "    20% {\n",
              "      border-color: transparent;\n",
              "      border-left-color: var(--fill-color);\n",
              "      border-top-color: var(--fill-color);\n",
              "    }\n",
              "    30% {\n",
              "      border-color: transparent;\n",
              "      border-left-color: var(--fill-color);\n",
              "      border-top-color: var(--fill-color);\n",
              "      border-right-color: var(--fill-color);\n",
              "    }\n",
              "    40% {\n",
              "      border-color: transparent;\n",
              "      border-right-color: var(--fill-color);\n",
              "      border-top-color: var(--fill-color);\n",
              "    }\n",
              "    60% {\n",
              "      border-color: transparent;\n",
              "      border-right-color: var(--fill-color);\n",
              "    }\n",
              "    80% {\n",
              "      border-color: transparent;\n",
              "      border-right-color: var(--fill-color);\n",
              "      border-bottom-color: var(--fill-color);\n",
              "    }\n",
              "    90% {\n",
              "      border-color: transparent;\n",
              "      border-bottom-color: var(--fill-color);\n",
              "    }\n",
              "  }\n",
              "</style>\n",
              "\n",
              "  <script>\n",
              "    async function quickchart(key) {\n",
              "      const quickchartButtonEl =\n",
              "        document.querySelector('#' + key + ' button');\n",
              "      quickchartButtonEl.disabled = true;  // To prevent multiple clicks.\n",
              "      quickchartButtonEl.classList.add('colab-df-spinner');\n",
              "      try {\n",
              "        const charts = await google.colab.kernel.invokeFunction(\n",
              "            'suggestCharts', [key], {});\n",
              "      } catch (error) {\n",
              "        console.error('Error during call to suggestCharts:', error);\n",
              "      }\n",
              "      quickchartButtonEl.classList.remove('colab-df-spinner');\n",
              "      quickchartButtonEl.classList.add('colab-df-quickchart-complete');\n",
              "    }\n",
              "    (() => {\n",
              "      let quickchartButtonEl =\n",
              "        document.querySelector('#df-75528ea2-f7d1-48d8-bce9-36e357948921 button');\n",
              "      quickchartButtonEl.style.display =\n",
              "        google.colab.kernel.accessAllowed ? 'block' : 'none';\n",
              "    })();\n",
              "  </script>\n",
              "</div>\n",
              "    </div>\n",
              "  </div>\n"
            ]
          },
          "metadata": {},
          "execution_count": 175
        }
      ],
      "source": [
        "import pandas as pd\n",
        "import numpy as np\n",
        "\n",
        "df = pd.read_csv(\"A_Z Handwritten Data.csv\", header=None, dtype=np.uint8, nrows=10000)\n",
        "df.head()"
      ]
    },
    {
      "cell_type": "markdown",
      "source": [
        "## Cargar muestra"
      ],
      "metadata": {
        "id": "DMVr0bTJ9xrF"
      }
    },
    {
      "cell_type": "code",
      "source": [
        "import pandas as pd\n",
        "import numpy as np\n",
        "\n",
        "df = pd.read_csv(\"sample.csv\", dtype=np.uint8, header=None)\n",
        "df.head()"
      ],
      "metadata": {
        "colab": {
          "base_uri": "https://localhost:8080/",
          "height": 235
        },
        "id": "tVW7HXa59btm",
        "outputId": "3f71bf83-5335-42c1-df71-6413ff15ec34"
      },
      "execution_count": 177,
      "outputs": [
        {
          "output_type": "execute_result",
          "data": {
            "text/plain": [
              "   0    1    2    3    4    5    6    7    8    9    ...  775  776  777  778  \\\n",
              "0    0    0    0    0    0    0    0    0    0    0  ...    0    0    0    0   \n",
              "1    0    0    0    0    0    0    0    0    0    0  ...    0    0    0    0   \n",
              "2    0    0    0    0    0    0    0    0    0    0  ...    0    0    0    0   \n",
              "3    0    0    0    0    0    0    0    0    0    0  ...    0    0    0    0   \n",
              "4    0    0    0    0    0    0    0    0    0    0  ...    0    0    0    0   \n",
              "\n",
              "   779  780  781  782  783  784  \n",
              "0    0    0    0    0    0    0  \n",
              "1    0    0    0    0    0    0  \n",
              "2    0    0    0    0    0    0  \n",
              "3    0    0    0    0    0    0  \n",
              "4    0    0    0    0    0    0  \n",
              "\n",
              "[5 rows x 785 columns]"
            ],
            "text/html": [
              "\n",
              "  <div id=\"df-926fa910-b518-4756-b61b-cab7d1130f57\" class=\"colab-df-container\">\n",
              "    <div>\n",
              "<style scoped>\n",
              "    .dataframe tbody tr th:only-of-type {\n",
              "        vertical-align: middle;\n",
              "    }\n",
              "\n",
              "    .dataframe tbody tr th {\n",
              "        vertical-align: top;\n",
              "    }\n",
              "\n",
              "    .dataframe thead th {\n",
              "        text-align: right;\n",
              "    }\n",
              "</style>\n",
              "<table border=\"1\" class=\"dataframe\">\n",
              "  <thead>\n",
              "    <tr style=\"text-align: right;\">\n",
              "      <th></th>\n",
              "      <th>0</th>\n",
              "      <th>1</th>\n",
              "      <th>2</th>\n",
              "      <th>3</th>\n",
              "      <th>4</th>\n",
              "      <th>5</th>\n",
              "      <th>6</th>\n",
              "      <th>7</th>\n",
              "      <th>8</th>\n",
              "      <th>9</th>\n",
              "      <th>...</th>\n",
              "      <th>775</th>\n",
              "      <th>776</th>\n",
              "      <th>777</th>\n",
              "      <th>778</th>\n",
              "      <th>779</th>\n",
              "      <th>780</th>\n",
              "      <th>781</th>\n",
              "      <th>782</th>\n",
              "      <th>783</th>\n",
              "      <th>784</th>\n",
              "    </tr>\n",
              "  </thead>\n",
              "  <tbody>\n",
              "    <tr>\n",
              "      <th>0</th>\n",
              "      <td>0</td>\n",
              "      <td>0</td>\n",
              "      <td>0</td>\n",
              "      <td>0</td>\n",
              "      <td>0</td>\n",
              "      <td>0</td>\n",
              "      <td>0</td>\n",
              "      <td>0</td>\n",
              "      <td>0</td>\n",
              "      <td>0</td>\n",
              "      <td>...</td>\n",
              "      <td>0</td>\n",
              "      <td>0</td>\n",
              "      <td>0</td>\n",
              "      <td>0</td>\n",
              "      <td>0</td>\n",
              "      <td>0</td>\n",
              "      <td>0</td>\n",
              "      <td>0</td>\n",
              "      <td>0</td>\n",
              "      <td>0</td>\n",
              "    </tr>\n",
              "    <tr>\n",
              "      <th>1</th>\n",
              "      <td>0</td>\n",
              "      <td>0</td>\n",
              "      <td>0</td>\n",
              "      <td>0</td>\n",
              "      <td>0</td>\n",
              "      <td>0</td>\n",
              "      <td>0</td>\n",
              "      <td>0</td>\n",
              "      <td>0</td>\n",
              "      <td>0</td>\n",
              "      <td>...</td>\n",
              "      <td>0</td>\n",
              "      <td>0</td>\n",
              "      <td>0</td>\n",
              "      <td>0</td>\n",
              "      <td>0</td>\n",
              "      <td>0</td>\n",
              "      <td>0</td>\n",
              "      <td>0</td>\n",
              "      <td>0</td>\n",
              "      <td>0</td>\n",
              "    </tr>\n",
              "    <tr>\n",
              "      <th>2</th>\n",
              "      <td>0</td>\n",
              "      <td>0</td>\n",
              "      <td>0</td>\n",
              "      <td>0</td>\n",
              "      <td>0</td>\n",
              "      <td>0</td>\n",
              "      <td>0</td>\n",
              "      <td>0</td>\n",
              "      <td>0</td>\n",
              "      <td>0</td>\n",
              "      <td>...</td>\n",
              "      <td>0</td>\n",
              "      <td>0</td>\n",
              "      <td>0</td>\n",
              "      <td>0</td>\n",
              "      <td>0</td>\n",
              "      <td>0</td>\n",
              "      <td>0</td>\n",
              "      <td>0</td>\n",
              "      <td>0</td>\n",
              "      <td>0</td>\n",
              "    </tr>\n",
              "    <tr>\n",
              "      <th>3</th>\n",
              "      <td>0</td>\n",
              "      <td>0</td>\n",
              "      <td>0</td>\n",
              "      <td>0</td>\n",
              "      <td>0</td>\n",
              "      <td>0</td>\n",
              "      <td>0</td>\n",
              "      <td>0</td>\n",
              "      <td>0</td>\n",
              "      <td>0</td>\n",
              "      <td>...</td>\n",
              "      <td>0</td>\n",
              "      <td>0</td>\n",
              "      <td>0</td>\n",
              "      <td>0</td>\n",
              "      <td>0</td>\n",
              "      <td>0</td>\n",
              "      <td>0</td>\n",
              "      <td>0</td>\n",
              "      <td>0</td>\n",
              "      <td>0</td>\n",
              "    </tr>\n",
              "    <tr>\n",
              "      <th>4</th>\n",
              "      <td>0</td>\n",
              "      <td>0</td>\n",
              "      <td>0</td>\n",
              "      <td>0</td>\n",
              "      <td>0</td>\n",
              "      <td>0</td>\n",
              "      <td>0</td>\n",
              "      <td>0</td>\n",
              "      <td>0</td>\n",
              "      <td>0</td>\n",
              "      <td>...</td>\n",
              "      <td>0</td>\n",
              "      <td>0</td>\n",
              "      <td>0</td>\n",
              "      <td>0</td>\n",
              "      <td>0</td>\n",
              "      <td>0</td>\n",
              "      <td>0</td>\n",
              "      <td>0</td>\n",
              "      <td>0</td>\n",
              "      <td>0</td>\n",
              "    </tr>\n",
              "  </tbody>\n",
              "</table>\n",
              "<p>5 rows × 785 columns</p>\n",
              "</div>\n",
              "    <div class=\"colab-df-buttons\">\n",
              "\n",
              "  <div class=\"colab-df-container\">\n",
              "    <button class=\"colab-df-convert\" onclick=\"convertToInteractive('df-926fa910-b518-4756-b61b-cab7d1130f57')\"\n",
              "            title=\"Convert this dataframe to an interactive table.\"\n",
              "            style=\"display:none;\">\n",
              "\n",
              "  <svg xmlns=\"http://www.w3.org/2000/svg\" height=\"24px\" viewBox=\"0 -960 960 960\">\n",
              "    <path d=\"M120-120v-720h720v720H120Zm60-500h600v-160H180v160Zm220 220h160v-160H400v160Zm0 220h160v-160H400v160ZM180-400h160v-160H180v160Zm440 0h160v-160H620v160ZM180-180h160v-160H180v160Zm440 0h160v-160H620v160Z\"/>\n",
              "  </svg>\n",
              "    </button>\n",
              "\n",
              "  <style>\n",
              "    .colab-df-container {\n",
              "      display:flex;\n",
              "      gap: 12px;\n",
              "    }\n",
              "\n",
              "    .colab-df-convert {\n",
              "      background-color: #E8F0FE;\n",
              "      border: none;\n",
              "      border-radius: 50%;\n",
              "      cursor: pointer;\n",
              "      display: none;\n",
              "      fill: #1967D2;\n",
              "      height: 32px;\n",
              "      padding: 0 0 0 0;\n",
              "      width: 32px;\n",
              "    }\n",
              "\n",
              "    .colab-df-convert:hover {\n",
              "      background-color: #E2EBFA;\n",
              "      box-shadow: 0px 1px 2px rgba(60, 64, 67, 0.3), 0px 1px 3px 1px rgba(60, 64, 67, 0.15);\n",
              "      fill: #174EA6;\n",
              "    }\n",
              "\n",
              "    .colab-df-buttons div {\n",
              "      margin-bottom: 4px;\n",
              "    }\n",
              "\n",
              "    [theme=dark] .colab-df-convert {\n",
              "      background-color: #3B4455;\n",
              "      fill: #D2E3FC;\n",
              "    }\n",
              "\n",
              "    [theme=dark] .colab-df-convert:hover {\n",
              "      background-color: #434B5C;\n",
              "      box-shadow: 0px 1px 3px 1px rgba(0, 0, 0, 0.15);\n",
              "      filter: drop-shadow(0px 1px 2px rgba(0, 0, 0, 0.3));\n",
              "      fill: #FFFFFF;\n",
              "    }\n",
              "  </style>\n",
              "\n",
              "    <script>\n",
              "      const buttonEl =\n",
              "        document.querySelector('#df-926fa910-b518-4756-b61b-cab7d1130f57 button.colab-df-convert');\n",
              "      buttonEl.style.display =\n",
              "        google.colab.kernel.accessAllowed ? 'block' : 'none';\n",
              "\n",
              "      async function convertToInteractive(key) {\n",
              "        const element = document.querySelector('#df-926fa910-b518-4756-b61b-cab7d1130f57');\n",
              "        const dataTable =\n",
              "          await google.colab.kernel.invokeFunction('convertToInteractive',\n",
              "                                                    [key], {});\n",
              "        if (!dataTable) return;\n",
              "\n",
              "        const docLinkHtml = 'Like what you see? Visit the ' +\n",
              "          '<a target=\"_blank\" href=https://colab.research.google.com/notebooks/data_table.ipynb>data table notebook</a>'\n",
              "          + ' to learn more about interactive tables.';\n",
              "        element.innerHTML = '';\n",
              "        dataTable['output_type'] = 'display_data';\n",
              "        await google.colab.output.renderOutput(dataTable, element);\n",
              "        const docLink = document.createElement('div');\n",
              "        docLink.innerHTML = docLinkHtml;\n",
              "        element.appendChild(docLink);\n",
              "      }\n",
              "    </script>\n",
              "  </div>\n",
              "\n",
              "\n",
              "<div id=\"df-3a38194e-c2cf-4607-aa9f-dbf6be2df261\">\n",
              "  <button class=\"colab-df-quickchart\" onclick=\"quickchart('df-3a38194e-c2cf-4607-aa9f-dbf6be2df261')\"\n",
              "            title=\"Suggest charts.\"\n",
              "            style=\"display:none;\">\n",
              "\n",
              "<svg xmlns=\"http://www.w3.org/2000/svg\" height=\"24px\"viewBox=\"0 0 24 24\"\n",
              "     width=\"24px\">\n",
              "    <g>\n",
              "        <path d=\"M19 3H5c-1.1 0-2 .9-2 2v14c0 1.1.9 2 2 2h14c1.1 0 2-.9 2-2V5c0-1.1-.9-2-2-2zM9 17H7v-7h2v7zm4 0h-2V7h2v10zm4 0h-2v-4h2v4z\"/>\n",
              "    </g>\n",
              "</svg>\n",
              "  </button>\n",
              "\n",
              "<style>\n",
              "  .colab-df-quickchart {\n",
              "      --bg-color: #E8F0FE;\n",
              "      --fill-color: #1967D2;\n",
              "      --hover-bg-color: #E2EBFA;\n",
              "      --hover-fill-color: #174EA6;\n",
              "      --disabled-fill-color: #AAA;\n",
              "      --disabled-bg-color: #DDD;\n",
              "  }\n",
              "\n",
              "  [theme=dark] .colab-df-quickchart {\n",
              "      --bg-color: #3B4455;\n",
              "      --fill-color: #D2E3FC;\n",
              "      --hover-bg-color: #434B5C;\n",
              "      --hover-fill-color: #FFFFFF;\n",
              "      --disabled-bg-color: #3B4455;\n",
              "      --disabled-fill-color: #666;\n",
              "  }\n",
              "\n",
              "  .colab-df-quickchart {\n",
              "    background-color: var(--bg-color);\n",
              "    border: none;\n",
              "    border-radius: 50%;\n",
              "    cursor: pointer;\n",
              "    display: none;\n",
              "    fill: var(--fill-color);\n",
              "    height: 32px;\n",
              "    padding: 0;\n",
              "    width: 32px;\n",
              "  }\n",
              "\n",
              "  .colab-df-quickchart:hover {\n",
              "    background-color: var(--hover-bg-color);\n",
              "    box-shadow: 0 1px 2px rgba(60, 64, 67, 0.3), 0 1px 3px 1px rgba(60, 64, 67, 0.15);\n",
              "    fill: var(--button-hover-fill-color);\n",
              "  }\n",
              "\n",
              "  .colab-df-quickchart-complete:disabled,\n",
              "  .colab-df-quickchart-complete:disabled:hover {\n",
              "    background-color: var(--disabled-bg-color);\n",
              "    fill: var(--disabled-fill-color);\n",
              "    box-shadow: none;\n",
              "  }\n",
              "\n",
              "  .colab-df-spinner {\n",
              "    border: 2px solid var(--fill-color);\n",
              "    border-color: transparent;\n",
              "    border-bottom-color: var(--fill-color);\n",
              "    animation:\n",
              "      spin 1s steps(1) infinite;\n",
              "  }\n",
              "\n",
              "  @keyframes spin {\n",
              "    0% {\n",
              "      border-color: transparent;\n",
              "      border-bottom-color: var(--fill-color);\n",
              "      border-left-color: var(--fill-color);\n",
              "    }\n",
              "    20% {\n",
              "      border-color: transparent;\n",
              "      border-left-color: var(--fill-color);\n",
              "      border-top-color: var(--fill-color);\n",
              "    }\n",
              "    30% {\n",
              "      border-color: transparent;\n",
              "      border-left-color: var(--fill-color);\n",
              "      border-top-color: var(--fill-color);\n",
              "      border-right-color: var(--fill-color);\n",
              "    }\n",
              "    40% {\n",
              "      border-color: transparent;\n",
              "      border-right-color: var(--fill-color);\n",
              "      border-top-color: var(--fill-color);\n",
              "    }\n",
              "    60% {\n",
              "      border-color: transparent;\n",
              "      border-right-color: var(--fill-color);\n",
              "    }\n",
              "    80% {\n",
              "      border-color: transparent;\n",
              "      border-right-color: var(--fill-color);\n",
              "      border-bottom-color: var(--fill-color);\n",
              "    }\n",
              "    90% {\n",
              "      border-color: transparent;\n",
              "      border-bottom-color: var(--fill-color);\n",
              "    }\n",
              "  }\n",
              "</style>\n",
              "\n",
              "  <script>\n",
              "    async function quickchart(key) {\n",
              "      const quickchartButtonEl =\n",
              "        document.querySelector('#' + key + ' button');\n",
              "      quickchartButtonEl.disabled = true;  // To prevent multiple clicks.\n",
              "      quickchartButtonEl.classList.add('colab-df-spinner');\n",
              "      try {\n",
              "        const charts = await google.colab.kernel.invokeFunction(\n",
              "            'suggestCharts', [key], {});\n",
              "      } catch (error) {\n",
              "        console.error('Error during call to suggestCharts:', error);\n",
              "      }\n",
              "      quickchartButtonEl.classList.remove('colab-df-spinner');\n",
              "      quickchartButtonEl.classList.add('colab-df-quickchart-complete');\n",
              "    }\n",
              "    (() => {\n",
              "      let quickchartButtonEl =\n",
              "        document.querySelector('#df-3a38194e-c2cf-4607-aa9f-dbf6be2df261 button');\n",
              "      quickchartButtonEl.style.display =\n",
              "        google.colab.kernel.accessAllowed ? 'block' : 'none';\n",
              "    })();\n",
              "  </script>\n",
              "</div>\n",
              "    </div>\n",
              "  </div>\n"
            ]
          },
          "metadata": {},
          "execution_count": 177
        }
      ]
    },
    {
      "cell_type": "code",
      "source": [
        "from PIL import Image as Img\n",
        "\n",
        "pixels = df.iloc[0].to_numpy()[1:]\n",
        "pixels = np.reshape(pixels, (28, 28))\n",
        "\n",
        "img = Img.fromarray(pixels)\n",
        "img"
      ],
      "metadata": {
        "colab": {
          "base_uri": "https://localhost:8080/",
          "height": 45
        },
        "id": "RoN5IOQwdUi4",
        "outputId": "57de02ef-27b3-4b22-f702-5d1d1ca5c5eb"
      },
      "execution_count": 325,
      "outputs": [
        {
          "output_type": "execute_result",
          "data": {
            "text/plain": [
              "<PIL.Image.Image image mode=L size=28x28>"
            ],
            "image/png": "[encoded data removed]"
          },
          "metadata": {},
          "execution_count": 325
        }
      ]
    },
    {
      "cell_type": "code",
      "source": [
        "def draw_image(pixel_arr):\n",
        "    pixels = np.reshape(pixel_arr, (28, 28))\n",
        "    img = Img.fromarray(pixels)\n",
        "    return img"
      ],
      "metadata": {
        "id": "FDaCeAZkJzCx"
      },
      "execution_count": 326,
      "outputs": []
    },
    {
      "cell_type": "markdown",
      "source": [
        "## Exportar"
      ],
      "metadata": {
        "id": "wGQVJaDat7BE"
      }
    },
    {
      "cell_type": "markdown",
      "source": [
        "Funciones para exportar dataset con 1000 filas por clase."
      ],
      "metadata": {
        "id": "GhfKjthEuRzk"
      }
    },
    {
      "cell_type": "code",
      "source": [
        "letters = np.zeros(shape=(26, 1000, 785))"
      ],
      "metadata": {
        "id": "w9fc8YmzoxZN"
      },
      "execution_count": 49,
      "outputs": []
    },
    {
      "cell_type": "code",
      "source": [
        "# Asegurarse que todas las clases tengan 1000 datos como mínimo\n",
        "df.iloc[:, 0].value_counts()"
      ],
      "metadata": {
        "colab": {
          "base_uri": "https://localhost:8080/"
        },
        "id": "eAINksWtubt8",
        "outputId": "80c48bb1-d847-40f0-c5c5-5fe837ea36ce"
      },
      "execution_count": 188,
      "outputs": [
        {
          "output_type": "execute_result",
          "data": {
            "text/plain": [
              "0     1000\n",
              "1     1000\n",
              "24    1000\n",
              "23    1000\n",
              "22    1000\n",
              "21    1000\n",
              "20    1000\n",
              "19    1000\n",
              "18    1000\n",
              "17    1000\n",
              "16    1000\n",
              "15    1000\n",
              "14    1000\n",
              "13    1000\n",
              "12    1000\n",
              "11    1000\n",
              "10    1000\n",
              "9     1000\n",
              "8     1000\n",
              "7     1000\n",
              "6     1000\n",
              "5     1000\n",
              "4     1000\n",
              "3     1000\n",
              "2     1000\n",
              "25    1000\n",
              "Name: 0, dtype: int64"
            ]
          },
          "metadata": {},
          "execution_count": 188
        }
      ]
    },
    {
      "cell_type": "code",
      "source": [
        "letter = 25 # Recorrer de 0 a 25\n",
        "\n",
        "arr = df[df.iloc[:, 0] == letter].to_numpy()\n",
        "arr = arr[:1000]\n",
        "letters[letter] = arr"
      ],
      "metadata": {
        "id": "SEqef1m5p5I7"
      },
      "execution_count": 169,
      "outputs": []
    },
    {
      "cell_type": "code",
      "source": [
        "flt_arr = letters.reshape(26000, 785)\n",
        "np.savetxt(\"sample.csv\", flt_arr, delimiter=\",\")"
      ],
      "metadata": {
        "id": "8hw3aAVRxKiM"
      },
      "execution_count": 355,
      "outputs": []
    },
    {
      "cell_type": "markdown",
      "source": [
        "# Modelo"
      ],
      "metadata": {
        "id": "ICxuUqBsjNcb"
      }
    },
    {
      "cell_type": "code",
      "source": [
        "from sklearn.model_selection import train_test_split\n",
        "\n",
        "Y = df.iloc[:, 0].values\n",
        "X = df.iloc[:, 1:].values\n",
        "\n",
        "X_train, X_test, Y_train, Y_test = train_test_split(X, Y, test_size=0.2, random_state=1, stratify=Y)"
      ],
      "metadata": {
        "id": "DffXy463kGBq"
      },
      "execution_count": 207,
      "outputs": []
    },
    {
      "cell_type": "markdown",
      "source": [
        "Creación del modelo"
      ],
      "metadata": {
        "id": "25eiYWRFCafX"
      }
    },
    {
      "cell_type": "code",
      "source": [
        "from keras import models\n",
        "from keras import layers\n",
        "\n",
        "model = models.Sequential()\n",
        "\n",
        "model.add(layers.Dense(100, activation='sigmoid', input_shape=(784,)))\n",
        "model.add(layers.Dense(26, activation='sigmoid'))\n",
        "\n",
        "model.compile(optimizer='adam', loss='sparse_categorical_crossentropy', metrics=['accuracy'])"
      ],
      "metadata": {
        "id": "6iAdzyBqjOpB"
      },
      "execution_count": 351,
      "outputs": []
    },
    {
      "cell_type": "markdown",
      "source": [
        "Entrenamiento"
      ],
      "metadata": {
        "id": "VVbMDwhvCaEa"
      }
    },
    {
      "cell_type": "code",
      "source": [
        "model.fit(X_train, Y_train, epochs=100)"
      ],
      "metadata": {
        "colab": {
          "base_uri": "https://localhost:8080/"
        },
        "id": "3st7F1CVCYlf",
        "outputId": "1c66824f-9c5a-43f5-e862-ea07a377eafc"
      },
      "execution_count": 352,
      "outputs": [
        {
          "output_type": "stream",
          "name": "stdout",
          "text": [
            "Epoch 1/100\n",
            "650/650 [==============================] - 2s 3ms/step - loss: 1.9050 - accuracy: 0.5247\n",
            "Epoch 2/100\n",
            "650/650 [==============================] - 2s 3ms/step - loss: 1.0713 - accuracy: 0.7307\n",
            "Epoch 3/100\n",
            "650/650 [==============================] - 2s 3ms/step - loss: 0.8869 - accuracy: 0.7620\n",
            "Epoch 4/100\n",
            "650/650 [==============================] - 2s 4ms/step - loss: 0.8141 - accuracy: 0.7772\n",
            "Epoch 5/100\n",
            "650/650 [==============================] - 3s 4ms/step - loss: 0.7620 - accuracy: 0.7921\n",
            "Epoch 6/100\n",
            "650/650 [==============================] - 2s 3ms/step - loss: 0.7136 - accuracy: 0.7981\n",
            "Epoch 7/100\n",
            "650/650 [==============================] - 2s 3ms/step - loss: 0.6851 - accuracy: 0.8071\n",
            "Epoch 8/100\n",
            "650/650 [==============================] - 2s 3ms/step - loss: 0.6670 - accuracy: 0.8109\n",
            "Epoch 9/100\n",
            "650/650 [==============================] - 2s 3ms/step - loss: 0.6655 - accuracy: 0.8091\n",
            "Epoch 10/100\n",
            "650/650 [==============================] - 2s 3ms/step - loss: 0.6493 - accuracy: 0.8130\n",
            "Epoch 11/100\n",
            "650/650 [==============================] - 3s 4ms/step - loss: 0.6204 - accuracy: 0.8235\n",
            "Epoch 12/100\n",
            "650/650 [==============================] - 2s 4ms/step - loss: 0.6196 - accuracy: 0.8240\n",
            "Epoch 13/100\n",
            "650/650 [==============================] - 2s 3ms/step - loss: 0.6185 - accuracy: 0.8229\n",
            "Epoch 14/100\n",
            "650/650 [==============================] - 2s 3ms/step - loss: 0.6184 - accuracy: 0.8246\n",
            "Epoch 15/100\n",
            "650/650 [==============================] - 2s 3ms/step - loss: 0.6057 - accuracy: 0.8244\n",
            "Epoch 16/100\n",
            "650/650 [==============================] - 2s 3ms/step - loss: 0.6038 - accuracy: 0.8226\n",
            "Epoch 17/100\n",
            "650/650 [==============================] - 2s 3ms/step - loss: 0.5738 - accuracy: 0.8300\n",
            "Epoch 18/100\n",
            "650/650 [==============================] - 3s 5ms/step - loss: 0.5720 - accuracy: 0.8314\n",
            "Epoch 19/100\n",
            "650/650 [==============================] - 2s 3ms/step - loss: 0.5653 - accuracy: 0.8350\n",
            "Epoch 20/100\n",
            "650/650 [==============================] - 2s 3ms/step - loss: 0.5697 - accuracy: 0.8332\n",
            "Epoch 21/100\n",
            "650/650 [==============================] - 2s 3ms/step - loss: 0.5452 - accuracy: 0.8387\n",
            "Epoch 22/100\n",
            "650/650 [==============================] - 2s 3ms/step - loss: 0.5532 - accuracy: 0.8376\n",
            "Epoch 23/100\n",
            "650/650 [==============================] - 2s 3ms/step - loss: 0.5513 - accuracy: 0.8393\n",
            "Epoch 24/100\n",
            "650/650 [==============================] - 2s 4ms/step - loss: 0.5270 - accuracy: 0.8445\n",
            "Epoch 25/100\n",
            "650/650 [==============================] - 3s 4ms/step - loss: 0.5337 - accuracy: 0.8428\n",
            "Epoch 26/100\n",
            "650/650 [==============================] - 2s 3ms/step - loss: 0.5131 - accuracy: 0.8495\n",
            "Epoch 27/100\n",
            "650/650 [==============================] - 2s 3ms/step - loss: 0.5151 - accuracy: 0.8465\n",
            "Epoch 28/100\n",
            "650/650 [==============================] - 2s 3ms/step - loss: 0.5266 - accuracy: 0.8441\n",
            "Epoch 29/100\n",
            "650/650 [==============================] - 2s 3ms/step - loss: 0.5259 - accuracy: 0.8429\n",
            "Epoch 30/100\n",
            "650/650 [==============================] - 2s 3ms/step - loss: 0.5098 - accuracy: 0.8495\n",
            "Epoch 31/100\n",
            "650/650 [==============================] - 3s 4ms/step - loss: 0.5042 - accuracy: 0.8500\n",
            "Epoch 32/100\n",
            "650/650 [==============================] - 2s 4ms/step - loss: 0.4928 - accuracy: 0.8536\n",
            "Epoch 33/100\n",
            "650/650 [==============================] - 2s 3ms/step - loss: 0.5081 - accuracy: 0.8490\n",
            "Epoch 34/100\n",
            "650/650 [==============================] - 2s 3ms/step - loss: 0.4896 - accuracy: 0.8550\n",
            "Epoch 35/100\n",
            "650/650 [==============================] - 2s 3ms/step - loss: 0.4870 - accuracy: 0.8539\n",
            "Epoch 36/100\n",
            "650/650 [==============================] - 2s 3ms/step - loss: 0.4753 - accuracy: 0.8598\n",
            "Epoch 37/100\n",
            "650/650 [==============================] - 2s 3ms/step - loss: 0.4739 - accuracy: 0.8595\n",
            "Epoch 38/100\n",
            "650/650 [==============================] - 3s 4ms/step - loss: 0.4782 - accuracy: 0.8591\n",
            "Epoch 39/100\n",
            "650/650 [==============================] - 2s 3ms/step - loss: 0.4676 - accuracy: 0.8593\n",
            "Epoch 40/100\n",
            "650/650 [==============================] - 2s 3ms/step - loss: 0.4688 - accuracy: 0.8624\n",
            "Epoch 41/100\n",
            "650/650 [==============================] - 2s 3ms/step - loss: 0.4581 - accuracy: 0.8648\n",
            "Epoch 42/100\n",
            "650/650 [==============================] - 2s 3ms/step - loss: 0.4408 - accuracy: 0.8672\n",
            "Epoch 43/100\n",
            "650/650 [==============================] - 2s 3ms/step - loss: 0.4474 - accuracy: 0.8669\n",
            "Epoch 44/100\n",
            "650/650 [==============================] - 2s 4ms/step - loss: 0.4449 - accuracy: 0.8658\n",
            "Epoch 45/100\n",
            "650/650 [==============================] - 3s 5ms/step - loss: 0.4428 - accuracy: 0.8693\n",
            "Epoch 46/100\n",
            "650/650 [==============================] - 2s 3ms/step - loss: 0.4272 - accuracy: 0.8702\n",
            "Epoch 47/100\n",
            "650/650 [==============================] - 2s 3ms/step - loss: 0.4337 - accuracy: 0.8715\n",
            "Epoch 48/100\n",
            "650/650 [==============================] - 2s 3ms/step - loss: 0.4355 - accuracy: 0.8715\n",
            "Epoch 49/100\n",
            "650/650 [==============================] - 2s 3ms/step - loss: 0.4303 - accuracy: 0.8728\n",
            "Epoch 50/100\n",
            "650/650 [==============================] - 2s 3ms/step - loss: 0.4364 - accuracy: 0.8719\n",
            "Epoch 51/100\n",
            "650/650 [==============================] - 3s 4ms/step - loss: 0.4471 - accuracy: 0.8655\n",
            "Epoch 52/100\n",
            "650/650 [==============================] - 3s 4ms/step - loss: 0.4409 - accuracy: 0.8681\n",
            "Epoch 53/100\n",
            "650/650 [==============================] - 2s 3ms/step - loss: 0.4189 - accuracy: 0.8755\n",
            "Epoch 54/100\n",
            "650/650 [==============================] - 2s 3ms/step - loss: 0.4146 - accuracy: 0.8765\n",
            "Epoch 55/100\n",
            "650/650 [==============================] - 2s 3ms/step - loss: 0.4097 - accuracy: 0.8765\n",
            "Epoch 56/100\n",
            "650/650 [==============================] - 2s 3ms/step - loss: 0.3998 - accuracy: 0.8798\n",
            "Epoch 57/100\n",
            "650/650 [==============================] - 3s 4ms/step - loss: 0.3986 - accuracy: 0.8810\n",
            "Epoch 58/100\n",
            "650/650 [==============================] - 3s 4ms/step - loss: 0.3867 - accuracy: 0.8875\n",
            "Epoch 59/100\n",
            "650/650 [==============================] - 3s 4ms/step - loss: 0.3944 - accuracy: 0.8810\n",
            "Epoch 60/100\n",
            "650/650 [==============================] - 2s 3ms/step - loss: 0.3994 - accuracy: 0.8806\n",
            "Epoch 61/100\n",
            "650/650 [==============================] - 2s 3ms/step - loss: 0.4090 - accuracy: 0.8759\n",
            "Epoch 62/100\n",
            "650/650 [==============================] - 2s 3ms/step - loss: 0.4111 - accuracy: 0.8751\n",
            "Epoch 63/100\n",
            "650/650 [==============================] - 2s 3ms/step - loss: 0.3997 - accuracy: 0.8828\n",
            "Epoch 64/100\n",
            "650/650 [==============================] - 2s 3ms/step - loss: 0.3984 - accuracy: 0.8806\n",
            "Epoch 65/100\n",
            "650/650 [==============================] - 2s 4ms/step - loss: 0.3850 - accuracy: 0.8849\n",
            "Epoch 66/100\n",
            "650/650 [==============================] - 3s 4ms/step - loss: 0.3843 - accuracy: 0.8853\n",
            "Epoch 67/100\n",
            "650/650 [==============================] - 2s 3ms/step - loss: 0.3804 - accuracy: 0.8873\n",
            "Epoch 68/100\n",
            "650/650 [==============================] - 2s 3ms/step - loss: 0.3831 - accuracy: 0.8851\n",
            "Epoch 69/100\n",
            "650/650 [==============================] - 2s 3ms/step - loss: 0.3714 - accuracy: 0.8870\n",
            "Epoch 70/100\n",
            "650/650 [==============================] - 2s 3ms/step - loss: 0.3711 - accuracy: 0.8891\n",
            "Epoch 71/100\n",
            "650/650 [==============================] - 2s 3ms/step - loss: 0.3761 - accuracy: 0.8858\n",
            "Epoch 72/100\n",
            "650/650 [==============================] - 3s 4ms/step - loss: 0.3682 - accuracy: 0.8890\n",
            "Epoch 73/100\n",
            "650/650 [==============================] - 2s 4ms/step - loss: 0.3696 - accuracy: 0.8891\n",
            "Epoch 74/100\n",
            "650/650 [==============================] - 2s 3ms/step - loss: 0.3681 - accuracy: 0.8909\n",
            "Epoch 75/100\n",
            "650/650 [==============================] - 2s 3ms/step - loss: 0.3736 - accuracy: 0.8875\n",
            "Epoch 76/100\n",
            "650/650 [==============================] - 2s 3ms/step - loss: 0.3732 - accuracy: 0.8863\n",
            "Epoch 77/100\n",
            "650/650 [==============================] - 2s 3ms/step - loss: 0.3613 - accuracy: 0.8906\n",
            "Epoch 78/100\n",
            "650/650 [==============================] - 2s 3ms/step - loss: 0.3699 - accuracy: 0.8883\n",
            "Epoch 79/100\n",
            "650/650 [==============================] - 3s 5ms/step - loss: 0.3646 - accuracy: 0.8918\n",
            "Epoch 80/100\n",
            "650/650 [==============================] - 2s 3ms/step - loss: 0.3556 - accuracy: 0.8930\n",
            "Epoch 81/100\n",
            "650/650 [==============================] - 2s 3ms/step - loss: 0.3595 - accuracy: 0.8921\n",
            "Epoch 82/100\n",
            "650/650 [==============================] - 2s 3ms/step - loss: 0.3703 - accuracy: 0.8875\n",
            "Epoch 83/100\n",
            "650/650 [==============================] - 2s 3ms/step - loss: 0.3632 - accuracy: 0.8883\n",
            "Epoch 84/100\n",
            "650/650 [==============================] - 2s 3ms/step - loss: 0.3615 - accuracy: 0.8902\n",
            "Epoch 85/100\n",
            "650/650 [==============================] - 2s 4ms/step - loss: 0.3735 - accuracy: 0.8876\n",
            "Epoch 86/100\n",
            "650/650 [==============================] - 3s 4ms/step - loss: 0.3524 - accuracy: 0.8930\n",
            "Epoch 87/100\n",
            "650/650 [==============================] - 2s 3ms/step - loss: 0.3367 - accuracy: 0.8961\n",
            "Epoch 88/100\n",
            "650/650 [==============================] - 2s 3ms/step - loss: 0.3480 - accuracy: 0.8946\n",
            "Epoch 89/100\n",
            "650/650 [==============================] - 2s 3ms/step - loss: 0.3525 - accuracy: 0.8937\n",
            "Epoch 90/100\n",
            "650/650 [==============================] - 2s 3ms/step - loss: 0.3537 - accuracy: 0.8941\n",
            "Epoch 91/100\n",
            "650/650 [==============================] - 2s 3ms/step - loss: 0.3611 - accuracy: 0.8911\n",
            "Epoch 92/100\n",
            "650/650 [==============================] - 3s 4ms/step - loss: 0.3619 - accuracy: 0.8919\n",
            "Epoch 93/100\n",
            "650/650 [==============================] - 3s 4ms/step - loss: 0.3535 - accuracy: 0.8924\n",
            "Epoch 94/100\n",
            "650/650 [==============================] - 2s 3ms/step - loss: 0.3486 - accuracy: 0.8959\n",
            "Epoch 95/100\n",
            "650/650 [==============================] - 2s 3ms/step - loss: 0.3507 - accuracy: 0.8935\n",
            "Epoch 96/100\n",
            "650/650 [==============================] - 2s 3ms/step - loss: 0.3373 - accuracy: 0.8968\n",
            "Epoch 97/100\n",
            "650/650 [==============================] - 2s 3ms/step - loss: 0.3409 - accuracy: 0.8949\n",
            "Epoch 98/100\n",
            "650/650 [==============================] - 2s 3ms/step - loss: 0.3424 - accuracy: 0.8960\n",
            "Epoch 99/100\n",
            "650/650 [==============================] - 3s 5ms/step - loss: 0.3414 - accuracy: 0.8982\n",
            "Epoch 100/100\n",
            "650/650 [==============================] - 2s 3ms/step - loss: 0.3524 - accuracy: 0.8926\n"
          ]
        },
        {
          "output_type": "execute_result",
          "data": {
            "text/plain": [
              "<keras.src.callbacks.History at 0x7add5ab76d40>"
            ]
          },
          "metadata": {},
          "execution_count": 352
        }
      ]
    },
    {
      "cell_type": "markdown",
      "source": [
        "Validación con datos de prueba: entropía categórica - accuracy"
      ],
      "metadata": {
        "id": "W_VqEB1jEbia"
      }
    },
    {
      "cell_type": "code",
      "source": [
        "model.evaluate(X_test, Y_test, verbose=False)"
      ],
      "metadata": {
        "colab": {
          "base_uri": "https://localhost:8080/"
        },
        "id": "lMTOL-_2DxVu",
        "outputId": "fc567734-f4c8-484f-ccc4-2d77e5bb5973"
      },
      "execution_count": 353,
      "outputs": [
        {
          "output_type": "execute_result",
          "data": {
            "text/plain": [
              "[0.4517442584037781, 0.8763461709022522]"
            ]
          },
          "metadata": {},
          "execution_count": 353
        }
      ]
    },
    {
      "cell_type": "code",
      "source": [
        "def predict(test_set, idx):\n",
        "    prob = model.predict(test_set[idx:idx+1])\n",
        "    pred = prob.argmax()\n",
        "    letter = chr(ord('A') + pred)\n",
        "\n",
        "    print(letter)\n",
        "    return draw_image(test_set[idx])"
      ],
      "metadata": {
        "id": "jUStg8L-FIU5"
      },
      "execution_count": 336,
      "outputs": []
    },
    {
      "cell_type": "code",
      "source": [
        "from io import BytesIO\n",
        "from IPython.display import display, Image\n",
        "\n",
        "for i in range(10):\n",
        "    img = predict(X_test, i)\n",
        "    bio = BytesIO()\n",
        "    img.save(bio, format='png')\n",
        "    display(Image(bio.getvalue(), format='png'))"
      ],
      "metadata": {
        "colab": {
          "base_uri": "https://localhost:8080/",
          "height": 644
        },
        "id": "lw5-9WLPLw0B",
        "outputId": "4da63c2d-f8f1-484b-b5a6-fa9864b3779f"
      },
      "execution_count": 354,
      "outputs": [
        {
          "output_type": "stream",
          "name": "stdout",
          "text": [
            "1/1 [==============================] - 0s 49ms/step\n",
            "S\n"
          ]
        },
        {
          "output_type": "display_data",
          "data": {
            "image/png": "[encoded data removed]",
            "text/plain": [
              "<IPython.core.display.Image object>"
            ]
          },
          "metadata": {}
        },
        {
          "output_type": "stream",
          "name": "stdout",
          "text": [
            "1/1 [==============================] - 0s 20ms/step\n",
            "O\n"
          ]
        },
        {
          "output_type": "display_data",
          "data": {
            "image/png": "[encoded data removed]",
            "text/plain": [
              "<IPython.core.display.Image object>"
            ]
          },
          "metadata": {}
        },
        {
          "output_type": "stream",
          "name": "stdout",
          "text": [
            "1/1 [==============================] - 0s 21ms/step\n",
            "M\n"
          ]
        },
        {
          "output_type": "display_data",
          "data": {
            "image/png": "[encoded data removed]",
            "text/plain": [
              "<IPython.core.display.Image object>"
            ]
          },
          "metadata": {}
        },
        {
          "output_type": "stream",
          "name": "stdout",
          "text": [
            "1/1 [==============================] - 0s 21ms/step\n",
            "M\n"
          ]
        },
        {
          "output_type": "display_data",
          "data": {
            "image/png": "[encoded data removed]",
            "text/plain": [
              "<IPython.core.display.Image object>"
            ]
          },
          "metadata": {}
        },
        {
          "output_type": "stream",
          "name": "stdout",
          "text": [
            "1/1 [==============================] - 0s 21ms/step\n",
            "U\n"
          ]
        },
        {
          "output_type": "display_data",
          "data": {
            "image/png": "[encoded data removed]",
            "text/plain": [
              "<IPython.core.display.Image object>"
            ]
          },
          "metadata": {}
        },
        {
          "output_type": "stream",
          "name": "stdout",
          "text": [
            "1/1 [==============================] - 0s 24ms/step\n",
            "M\n"
          ]
        },
        {
          "output_type": "display_data",
          "data": {
            "image/png": "[encoded data removed]",
            "text/plain": [
              "<IPython.core.display.Image object>"
            ]
          },
          "metadata": {}
        },
        {
          "output_type": "stream",
          "name": "stdout",
          "text": [
            "1/1 [==============================] - 0s 21ms/step\n",
            "S\n"
          ]
        },
        {
          "output_type": "display_data",
          "data": {
            "image/png": "[encoded data removed]",
            "text/plain": [
              "<IPython.core.display.Image object>"
            ]
          },
          "metadata": {}
        },
        {
          "output_type": "stream",
          "name": "stdout",
          "text": [
            "1/1 [==============================] - 0s 24ms/step\n",
            "K\n"
          ]
        },
        {
          "output_type": "display_data",
          "data": {
            "image/png": "[encoded data removed]",
            "text/plain": [
              "<IPython.core.display.Image object>"
            ]
          },
          "metadata": {}
        },
        {
          "output_type": "stream",
          "name": "stdout",
          "text": [
            "1/1 [==============================] - 0s 20ms/step\n",
            "D\n"
          ]
        },
        {
          "output_type": "display_data",
          "data": {
            "image/png": "[encoded data removed]",
            "text/plain": [
              "<IPython.core.display.Image object>"
            ]
          },
          "metadata": {}
        },
        {
          "output_type": "stream",
          "name": "stdout",
          "text": [
            "1/1 [==============================] - 0s 21ms/step\n",
            "E\n"
          ]
        },
        {
          "output_type": "display_data",
          "data": {
            "image/png": "[encoded data removed]",
            "text/plain": [
              "<IPython.core.display.Image object>"
            ]
          },
          "metadata": {}
        }
      ]
    }
  ]
}